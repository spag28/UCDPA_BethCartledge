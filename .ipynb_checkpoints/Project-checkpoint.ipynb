{
 "cells": [
  {
   "cell_type": "markdown",
   "id": "ad2933a1",
   "metadata": {},
   "source": [
    "# Importing Data - API (US CPI data)\n",
    "Source: https://www.alphavantage.co/ Inflation"
   ]
  },
  {
   "cell_type": "code",
   "execution_count": 2,
   "id": "0c9d3ea5",
   "metadata": {},
   "outputs": [
    {
     "name": "stdout",
     "output_type": "stream",
     "text": [
      "{'name': 'Inflation - US Consumer Prices', 'interval': 'annual', 'unit': 'percent', 'data': [{'date': '2021-01-01', 'value': '4.69785886363739'}, {'date': '2020-01-01', 'value': '1.23358439630637'}, {'date': '2019-01-01', 'value': '1.81221007526015'}, {'date': '2018-01-01', 'value': '2.44258329692818'}, {'date': '2017-01-01', 'value': '2.13011000365963'}, {'date': '2016-01-01', 'value': '1.26158320570537'}, {'date': '2015-01-01', 'value': '0.118627135552435'}, {'date': '2014-01-01', 'value': '1.62222297740821'}, {'date': '2013-01-01', 'value': '1.46483265562714'}, {'date': '2012-01-01', 'value': '2.06933726526059'}, {'date': '2011-01-01', 'value': '3.15684156862206'}, {'date': '2010-01-01', 'value': '1.64004344238989'}, {'date': '2009-01-01', 'value': '-0.35554626629975'}, {'date': '2008-01-01', 'value': '3.83910029665101'}, {'date': '2007-01-01', 'value': '2.85267248150136'}, {'date': '2006-01-01', 'value': '3.22594410070407'}, {'date': '2005-01-01', 'value': '3.39274684549547'}, {'date': '2004-01-01', 'value': '2.67723669309173'}, {'date': '2003-01-01', 'value': '2.27009497336113'}, {'date': '2002-01-01', 'value': '1.58603162650603'}, {'date': '2001-01-01', 'value': '2.82617111885402'}, {'date': '2000-01-01', 'value': '3.37685727149935'}, {'date': '1999-01-01', 'value': '2.18802719697358'}, {'date': '1998-01-01', 'value': '1.55227909874362'}, {'date': '1997-01-01', 'value': '2.33768993730741'}, {'date': '1996-01-01', 'value': '2.9312041999344'}, {'date': '1995-01-01', 'value': '2.80541968853655'}, {'date': '1994-01-01', 'value': '2.6074415921546'}, {'date': '1993-01-01', 'value': '2.95165696638554'}, {'date': '1992-01-01', 'value': '3.0288196781497'}, {'date': '1991-01-01', 'value': '4.23496396453853'}, {'date': '1990-01-01', 'value': '5.39795643990322'}, {'date': '1989-01-01', 'value': '4.82700303008949'}, {'date': '1988-01-01', 'value': '4.07774110744408'}, {'date': '1987-01-01', 'value': '3.66456321751691'}, {'date': '1986-01-01', 'value': '1.89804772234275'}, {'date': '1985-01-01', 'value': '3.54564415209369'}, {'date': '1984-01-01', 'value': '4.30053547523427'}, {'date': '1983-01-01', 'value': '3.21243523316063'}, {'date': '1982-01-01', 'value': '6.13142700027494'}, {'date': '1981-01-01', 'value': '10.3347153402771'}, {'date': '1980-01-01', 'value': '13.5492019749684'}, {'date': '1979-01-01', 'value': '11.2544711292795'}, {'date': '1978-01-01', 'value': '7.63096383885602'}, {'date': '1977-01-01', 'value': '6.50168399472839'}, {'date': '1976-01-01', 'value': '5.74481263549085'}, {'date': '1975-01-01', 'value': '9.14314686496534'}, {'date': '1974-01-01', 'value': '11.0548048048048'}, {'date': '1973-01-01', 'value': '6.17776006377041'}, {'date': '1972-01-01', 'value': '3.27227824655283'}, {'date': '1971-01-01', 'value': '4.29276668813045'}, {'date': '1970-01-01', 'value': '5.83825533848253'}, {'date': '1969-01-01', 'value': '5.4623862002875'}, {'date': '1968-01-01', 'value': '4.27179615288534'}, {'date': '1967-01-01', 'value': '2.77278562259307'}, {'date': '1966-01-01', 'value': '3.01507537688439'}, {'date': '1965-01-01', 'value': '1.58516926383669'}, {'date': '1964-01-01', 'value': '1.27891156462583'}, {'date': '1963-01-01', 'value': '1.2396694214876'}, {'date': '1962-01-01', 'value': '1.19877334820185'}, {'date': '1961-01-01', 'value': '1.07072414764723'}, {'date': '1960-01-01', 'value': '1.45797598627786'}]}\n"
     ]
    }
   ],
   "source": [
    "#This API returns the annual inflation rates (consumer prices) of the United States via API\n",
    "\n",
    "import requests\n",
    "\n",
    "url = 'https://www.alphavantage.co/query?function=INFLATION&apikey=MJJULQ2LBSJJVTWV'\n",
    "r = requests.get(url)\n",
    "data = r.json()\n",
    "\n",
    "print(data)"
   ]
  },
  {
   "cell_type": "code",
   "execution_count": 3,
   "id": "5a4c02c4",
   "metadata": {},
   "outputs": [
    {
     "data": {
      "text/plain": [
       "dict_keys(['name', 'interval', 'unit', 'data'])"
      ]
     },
     "execution_count": 3,
     "metadata": {},
     "output_type": "execute_result"
    }
   ],
   "source": [
    "#view the keys of the dictionary retrived from the API\n",
    "\n",
    "data.keys() "
   ]
  },
  {
   "cell_type": "code",
   "execution_count": 4,
   "id": "32d775a7",
   "metadata": {},
   "outputs": [
    {
     "data": {
      "text/html": [
       "<div>\n",
       "<style scoped>\n",
       "    .dataframe tbody tr th:only-of-type {\n",
       "        vertical-align: middle;\n",
       "    }\n",
       "\n",
       "    .dataframe tbody tr th {\n",
       "        vertical-align: top;\n",
       "    }\n",
       "\n",
       "    .dataframe thead th {\n",
       "        text-align: right;\n",
       "    }\n",
       "</style>\n",
       "<table border=\"1\" class=\"dataframe\">\n",
       "  <thead>\n",
       "    <tr style=\"text-align: right;\">\n",
       "      <th></th>\n",
       "      <th>date</th>\n",
       "      <th>value</th>\n",
       "    </tr>\n",
       "  </thead>\n",
       "  <tbody>\n",
       "    <tr>\n",
       "      <th>0</th>\n",
       "      <td>2021-01-01</td>\n",
       "      <td>4.69785886363739</td>\n",
       "    </tr>\n",
       "    <tr>\n",
       "      <th>1</th>\n",
       "      <td>2020-01-01</td>\n",
       "      <td>1.23358439630637</td>\n",
       "    </tr>\n",
       "    <tr>\n",
       "      <th>2</th>\n",
       "      <td>2019-01-01</td>\n",
       "      <td>1.81221007526015</td>\n",
       "    </tr>\n",
       "    <tr>\n",
       "      <th>3</th>\n",
       "      <td>2018-01-01</td>\n",
       "      <td>2.44258329692818</td>\n",
       "    </tr>\n",
       "    <tr>\n",
       "      <th>4</th>\n",
       "      <td>2017-01-01</td>\n",
       "      <td>2.13011000365963</td>\n",
       "    </tr>\n",
       "    <tr>\n",
       "      <th>...</th>\n",
       "      <td>...</td>\n",
       "      <td>...</td>\n",
       "    </tr>\n",
       "    <tr>\n",
       "      <th>57</th>\n",
       "      <td>1964-01-01</td>\n",
       "      <td>1.27891156462583</td>\n",
       "    </tr>\n",
       "    <tr>\n",
       "      <th>58</th>\n",
       "      <td>1963-01-01</td>\n",
       "      <td>1.2396694214876</td>\n",
       "    </tr>\n",
       "    <tr>\n",
       "      <th>59</th>\n",
       "      <td>1962-01-01</td>\n",
       "      <td>1.19877334820185</td>\n",
       "    </tr>\n",
       "    <tr>\n",
       "      <th>60</th>\n",
       "      <td>1961-01-01</td>\n",
       "      <td>1.07072414764723</td>\n",
       "    </tr>\n",
       "    <tr>\n",
       "      <th>61</th>\n",
       "      <td>1960-01-01</td>\n",
       "      <td>1.45797598627786</td>\n",
       "    </tr>\n",
       "  </tbody>\n",
       "</table>\n",
       "<p>62 rows × 2 columns</p>\n",
       "</div>"
      ],
      "text/plain": [
       "          date             value\n",
       "0   2021-01-01  4.69785886363739\n",
       "1   2020-01-01  1.23358439630637\n",
       "2   2019-01-01  1.81221007526015\n",
       "3   2018-01-01  2.44258329692818\n",
       "4   2017-01-01  2.13011000365963\n",
       "..         ...               ...\n",
       "57  1964-01-01  1.27891156462583\n",
       "58  1963-01-01   1.2396694214876\n",
       "59  1962-01-01  1.19877334820185\n",
       "60  1961-01-01  1.07072414764723\n",
       "61  1960-01-01  1.45797598627786\n",
       "\n",
       "[62 rows x 2 columns]"
      ]
     },
     "execution_count": 4,
     "metadata": {},
     "output_type": "execute_result"
    }
   ],
   "source": [
    "#import pandas and convert the dictionary to a dataframe\n",
    "\n",
    "import pandas as pd\n",
    "df = data['data'] \n",
    "df = pd.DataFrame(df)\n",
    "df"
   ]
  },
  {
   "cell_type": "code",
   "execution_count": 5,
   "id": "163314dc",
   "metadata": {},
   "outputs": [
    {
     "name": "stdout",
     "output_type": "stream",
     "text": [
      "         date             value\n",
      "0  2021-01-01  4.69785886363739\n",
      "1  2020-01-01  1.23358439630637\n",
      "2  2019-01-01  1.81221007526015\n",
      "3  2018-01-01  2.44258329692818\n",
      "4  2017-01-01  2.13011000365963\n"
     ]
    }
   ],
   "source": [
    "#view the top 5 rows of the dataframe\n",
    "\n",
    "print(df.head())"
   ]
  },
  {
   "cell_type": "code",
   "execution_count": 6,
   "id": "a3cbc290",
   "metadata": {},
   "outputs": [
    {
     "name": "stdout",
     "output_type": "stream",
     "text": [
      "              date             value\n",
      "count           62                62\n",
      "unique          62                62\n",
      "top     2021-01-01  4.69785886363739\n",
      "freq             1                 1\n"
     ]
    }
   ],
   "source": [
    "#look at the description of the data in the dataframe created\n",
    "\n",
    "print(df.describe())"
   ]
  },
  {
   "cell_type": "code",
   "execution_count": 7,
   "id": "9defbd61",
   "metadata": {},
   "outputs": [
    {
     "name": "stdout",
     "output_type": "stream",
     "text": [
      "<class 'pandas.core.frame.DataFrame'>\n",
      "RangeIndex: 62 entries, 0 to 61\n",
      "Data columns (total 2 columns):\n",
      " #   Column  Non-Null Count  Dtype \n",
      "---  ------  --------------  ----- \n",
      " 0   date    62 non-null     object\n",
      " 1   value   62 non-null     object\n",
      "dtypes: object(2)\n",
      "memory usage: 1.1+ KB\n"
     ]
    }
   ],
   "source": [
    "#look at the summary of the data in the dataframe and check the datatypes\n",
    "\n",
    "df.info()"
   ]
  },
  {
   "cell_type": "code",
   "execution_count": 8,
   "id": "0441de2d",
   "metadata": {},
   "outputs": [],
   "source": [
    "#convert the datatypes for both columns from object to date float and date\n",
    "\n",
    "df['value']=df['value'].astype(float)\n",
    "df['date']= pd.to_datetime(df['date'])"
   ]
  },
  {
   "cell_type": "code",
   "execution_count": 9,
   "id": "ec049628",
   "metadata": {},
   "outputs": [
    {
     "data": {
      "text/plain": [
       "date     datetime64[ns]\n",
       "value           float64\n",
       "dtype: object"
      ]
     },
     "execution_count": 9,
     "metadata": {},
     "output_type": "execute_result"
    }
   ],
   "source": [
    "#check the datatypes have been converted and what each column is\n",
    "\n",
    "df.dtypes"
   ]
  },
  {
   "cell_type": "code",
   "execution_count": 10,
   "id": "35788aef",
   "metadata": {},
   "outputs": [
    {
     "data": {
      "image/png": "[encoded data removed]",
      "text/plain": [
       "<Figure size 720x432 with 1 Axes>"
      ]
     },
     "metadata": {
      "needs_background": "light"
     },
     "output_type": "display_data"
    }
   ],
   "source": [
    "#create a graph of the data\n",
    "\n",
    "import matplotlib.pyplot as plt\n",
    "df.plot(x = 'date', y = 'value', kind = 'line', color= 'g',figsize = (10,6),legend=False)\n",
    "plt.xlabel('Date')\n",
    "plt.ylabel('Index')\n",
    "plt.title('US CPI Inflation')\n",
    "plt.show()"
   ]
  },
  {
   "cell_type": "markdown",
   "id": "ca26ff08",
   "metadata": {},
   "source": [
    "# Importing Data - csv files (Bitcoin prices for June and July)"
   ]
  },
  {
   "cell_type": "code",
   "execution_count": 70,
   "id": "9f58a266",
   "metadata": {},
   "outputs": [
    {
     "data": {
      "text/plain": [
       "(30, 7)"
      ]
     },
     "execution_count": 70,
     "metadata": {},
     "output_type": "execute_result"
    }
   ],
   "source": [
    "#import pandas and import a csv file with Bitcoin prices for June 2022\n",
    "\n",
    "import pandas as pd\n",
    "df1 = pd.read_csv('June22 daily BTC.csv')\n",
    "df1.shape"
   ]
  },
  {
   "cell_type": "code",
   "execution_count": 71,
   "id": "5bc6ee82",
   "metadata": {},
   "outputs": [
    {
     "data": {
      "text/plain": [
       "(31, 7)"
      ]
     },
     "execution_count": 71,
     "metadata": {},
     "output_type": "execute_result"
    }
   ],
   "source": [
    "#import another csv file with Bitcoin prices for July 2022\n",
    "\n",
    "df2 = pd.read_csv('July22 daily BTC.csv')\n",
    "df2.shape"
   ]
  },
  {
   "cell_type": "code",
   "execution_count": 72,
   "id": "dee9f72d",
   "metadata": {},
   "outputs": [
    {
     "data": {
      "text/html": [
       "<div>\n",
       "<style scoped>\n",
       "    .dataframe tbody tr th:only-of-type {\n",
       "        vertical-align: middle;\n",
       "    }\n",
       "\n",
       "    .dataframe tbody tr th {\n",
       "        vertical-align: top;\n",
       "    }\n",
       "\n",
       "    .dataframe thead th {\n",
       "        text-align: right;\n",
       "    }\n",
       "</style>\n",
       "<table border=\"1\" class=\"dataframe\">\n",
       "  <thead>\n",
       "    <tr style=\"text-align: right;\">\n",
       "      <th></th>\n",
       "      <th>Date</th>\n",
       "      <th>High</th>\n",
       "      <th>Low</th>\n",
       "      <th>Open</th>\n",
       "      <th>Close</th>\n",
       "      <th>Volume</th>\n",
       "      <th>Adj Close</th>\n",
       "    </tr>\n",
       "  </thead>\n",
       "  <tbody>\n",
       "    <tr>\n",
       "      <th>0</th>\n",
       "      <td>01/06/2022</td>\n",
       "      <td>31957.28516</td>\n",
       "      <td>29501.58789</td>\n",
       "      <td>31792.55469</td>\n",
       "      <td>29799.08008</td>\n",
       "      <td>41135817341</td>\n",
       "      <td>29799.08008</td>\n",
       "    </tr>\n",
       "    <tr>\n",
       "      <th>1</th>\n",
       "      <td>02/06/2022</td>\n",
       "      <td>30604.73438</td>\n",
       "      <td>29652.70508</td>\n",
       "      <td>29794.89063</td>\n",
       "      <td>30467.48828</td>\n",
       "      <td>29083562061</td>\n",
       "      <td>30467.48828</td>\n",
       "    </tr>\n",
       "    <tr>\n",
       "      <th>2</th>\n",
       "      <td>03/06/2022</td>\n",
       "      <td>30633.03516</td>\n",
       "      <td>29375.68945</td>\n",
       "      <td>30467.80664</td>\n",
       "      <td>29704.39063</td>\n",
       "      <td>26175547452</td>\n",
       "      <td>29704.39063</td>\n",
       "    </tr>\n",
       "    <tr>\n",
       "      <th>3</th>\n",
       "      <td>04/06/2022</td>\n",
       "      <td>29930.56445</td>\n",
       "      <td>29500.00586</td>\n",
       "      <td>29706.13867</td>\n",
       "      <td>29832.91406</td>\n",
       "      <td>16588370958</td>\n",
       "      <td>29832.91406</td>\n",
       "    </tr>\n",
       "    <tr>\n",
       "      <th>4</th>\n",
       "      <td>05/06/2022</td>\n",
       "      <td>30117.74414</td>\n",
       "      <td>29574.44922</td>\n",
       "      <td>29835.11719</td>\n",
       "      <td>29906.66211</td>\n",
       "      <td>17264085441</td>\n",
       "      <td>29906.66211</td>\n",
       "    </tr>\n",
       "  </tbody>\n",
       "</table>\n",
       "</div>"
      ],
      "text/plain": [
       "         Date         High          Low        Open         Close  \\\n",
       "0  01/06/2022  31957.28516  29501.58789  31792.55469  29799.08008   \n",
       "1  02/06/2022  30604.73438  29652.70508  29794.89063  30467.48828   \n",
       "2  03/06/2022  30633.03516  29375.68945  30467.80664  29704.39063   \n",
       "3  04/06/2022  29930.56445  29500.00586  29706.13867  29832.91406   \n",
       "4  05/06/2022  30117.74414  29574.44922  29835.11719  29906.66211   \n",
       "\n",
       "        Volume    Adj Close  \n",
       "0  41135817341  29799.08008  \n",
       "1  29083562061  30467.48828  \n",
       "2  26175547452  29704.39063  \n",
       "3  16588370958  29832.91406  \n",
       "4  17264085441  29906.66211  "
      ]
     },
     "execution_count": 72,
     "metadata": {},
     "output_type": "execute_result"
    }
   ],
   "source": [
    "#view the top 5 rows of the June data imported\n",
    "\n",
    "df1.head()"
   ]
  },
  {
   "cell_type": "code",
   "execution_count": 73,
   "id": "1cb1476e",
   "metadata": {},
   "outputs": [
    {
     "data": {
      "text/html": [
       "<div>\n",
       "<style scoped>\n",
       "    .dataframe tbody tr th:only-of-type {\n",
       "        vertical-align: middle;\n",
       "    }\n",
       "\n",
       "    .dataframe tbody tr th {\n",
       "        vertical-align: top;\n",
       "    }\n",
       "\n",
       "    .dataframe thead th {\n",
       "        text-align: right;\n",
       "    }\n",
       "</style>\n",
       "<table border=\"1\" class=\"dataframe\">\n",
       "  <thead>\n",
       "    <tr style=\"text-align: right;\">\n",
       "      <th></th>\n",
       "      <th>Date</th>\n",
       "      <th>High</th>\n",
       "      <th>Low</th>\n",
       "      <th>Open</th>\n",
       "      <th>Close</th>\n",
       "      <th>Volume</th>\n",
       "      <th>Adj Close</th>\n",
       "    </tr>\n",
       "  </thead>\n",
       "  <tbody>\n",
       "    <tr>\n",
       "      <th>26</th>\n",
       "      <td>27/07/2022</td>\n",
       "      <td>22986.52930</td>\n",
       "      <td>21070.80664</td>\n",
       "      <td>21244.16992</td>\n",
       "      <td>22930.54883</td>\n",
       "      <td>31758955233</td>\n",
       "      <td>22930.54883</td>\n",
       "    </tr>\n",
       "    <tr>\n",
       "      <th>27</th>\n",
       "      <td>28/07/2022</td>\n",
       "      <td>24110.47070</td>\n",
       "      <td>22722.26563</td>\n",
       "      <td>22933.64063</td>\n",
       "      <td>23843.88672</td>\n",
       "      <td>40212386158</td>\n",
       "      <td>23843.88672</td>\n",
       "    </tr>\n",
       "    <tr>\n",
       "      <th>28</th>\n",
       "      <td>29/07/2022</td>\n",
       "      <td>24294.78711</td>\n",
       "      <td>23481.17383</td>\n",
       "      <td>23845.21289</td>\n",
       "      <td>23804.63281</td>\n",
       "      <td>35887249746</td>\n",
       "      <td>23804.63281</td>\n",
       "    </tr>\n",
       "    <tr>\n",
       "      <th>29</th>\n",
       "      <td>30/07/2022</td>\n",
       "      <td>24572.58008</td>\n",
       "      <td>23580.50781</td>\n",
       "      <td>23796.81836</td>\n",
       "      <td>23656.20703</td>\n",
       "      <td>28148218301</td>\n",
       "      <td>23656.20703</td>\n",
       "    </tr>\n",
       "    <tr>\n",
       "      <th>30</th>\n",
       "      <td>31/07/2022</td>\n",
       "      <td>24121.64258</td>\n",
       "      <td>23275.70313</td>\n",
       "      <td>23652.07031</td>\n",
       "      <td>23336.89648</td>\n",
       "      <td>23553591896</td>\n",
       "      <td>23336.89648</td>\n",
       "    </tr>\n",
       "  </tbody>\n",
       "</table>\n",
       "</div>"
      ],
      "text/plain": [
       "          Date         High          Low        Open         Close  \\\n",
       "26  27/07/2022  22986.52930  21070.80664  21244.16992  22930.54883   \n",
       "27  28/07/2022  24110.47070  22722.26563  22933.64063  23843.88672   \n",
       "28  29/07/2022  24294.78711  23481.17383  23845.21289  23804.63281   \n",
       "29  30/07/2022  24572.58008  23580.50781  23796.81836  23656.20703   \n",
       "30  31/07/2022  24121.64258  23275.70313  23652.07031  23336.89648   \n",
       "\n",
       "         Volume    Adj Close  \n",
       "26  31758955233  22930.54883  \n",
       "27  40212386158  23843.88672  \n",
       "28  35887249746  23804.63281  \n",
       "29  28148218301  23656.20703  \n",
       "30  23553591896  23336.89648  "
      ]
     },
     "execution_count": 73,
     "metadata": {},
     "output_type": "execute_result"
    }
   ],
   "source": [
    "#view the last 5 rows of data from the July data imported\n",
    "\n",
    "df2.tail()"
   ]
  },
  {
   "cell_type": "markdown",
   "id": "5ca29174",
   "metadata": {},
   "source": [
    "# Join the June and July datasets into one dataframe called Prices"
   ]
  },
  {
   "cell_type": "code",
   "execution_count": 74,
   "id": "db7b294f",
   "metadata": {},
   "outputs": [],
   "source": [
    "#join the two months datasets into one dataframe\n",
    "\n",
    "dfJune = pd.DataFrame(df1)\n",
    "dfJuly = pd.DataFrame(df2)\n",
    "Prices = pd.concat([df1, df2],axis = 0)"
   ]
  },
  {
   "cell_type": "code",
   "execution_count": 75,
   "id": "22d12ec4",
   "metadata": {},
   "outputs": [
    {
     "name": "stdout",
     "output_type": "stream",
     "text": [
      "          Date         High          Low        Open         Close  \\\n",
      "0   01/06/2022  31957.28516  29501.58789  31792.55469  29799.08008   \n",
      "1   02/06/2022  30604.73438  29652.70508  29794.89063  30467.48828   \n",
      "2   03/06/2022  30633.03516  29375.68945  30467.80664  29704.39063   \n",
      "3   04/06/2022  29930.56445  29500.00586  29706.13867  29832.91406   \n",
      "4   05/06/2022  30117.74414  29574.44922  29835.11719  29906.66211   \n",
      "..         ...          ...          ...          ...          ...   \n",
      "26  27/07/2022  22986.52930  21070.80664  21244.16992  22930.54883   \n",
      "27  28/07/2022  24110.47070  22722.26563  22933.64063  23843.88672   \n",
      "28  29/07/2022  24294.78711  23481.17383  23845.21289  23804.63281   \n",
      "29  30/07/2022  24572.58008  23580.50781  23796.81836  23656.20703   \n",
      "30  31/07/2022  24121.64258  23275.70313  23652.07031  23336.89648   \n",
      "\n",
      "         Volume    Adj Close  \n",
      "0   41135817341  29799.08008  \n",
      "1   29083562061  30467.48828  \n",
      "2   26175547452  29704.39063  \n",
      "3   16588370958  29832.91406  \n",
      "4   17264085441  29906.66211  \n",
      "..          ...          ...  \n",
      "26  31758955233  22930.54883  \n",
      "27  40212386158  23843.88672  \n",
      "28  35887249746  23804.63281  \n",
      "29  28148218301  23656.20703  \n",
      "30  23553591896  23336.89648  \n",
      "\n",
      "[61 rows x 7 columns]\n"
     ]
    }
   ],
   "source": [
    "#view the newly created Dataframe of prices for June and July\n",
    "\n",
    "print(Prices)"
   ]
  },
  {
   "cell_type": "code",
   "execution_count": 76,
   "id": "0bae53b6",
   "metadata": {},
   "outputs": [
    {
     "data": {
      "text/plain": [
       "True"
      ]
     },
     "execution_count": 76,
     "metadata": {},
     "output_type": "execute_result"
    }
   ],
   "source": [
    "#check that the new Prices dataset is of a DataFrame type\n",
    "\n",
    "isinstance(Prices,pd.DataFrame)"
   ]
  },
  {
   "cell_type": "code",
   "execution_count": 77,
   "id": "17611556",
   "metadata": {},
   "outputs": [
    {
     "data": {
      "text/html": [
       "<div>\n",
       "<style scoped>\n",
       "    .dataframe tbody tr th:only-of-type {\n",
       "        vertical-align: middle;\n",
       "    }\n",
       "\n",
       "    .dataframe tbody tr th {\n",
       "        vertical-align: top;\n",
       "    }\n",
       "\n",
       "    .dataframe thead th {\n",
       "        text-align: right;\n",
       "    }\n",
       "</style>\n",
       "<table border=\"1\" class=\"dataframe\">\n",
       "  <thead>\n",
       "    <tr style=\"text-align: right;\">\n",
       "      <th></th>\n",
       "      <th>High</th>\n",
       "      <th>Low</th>\n",
       "      <th>Open</th>\n",
       "      <th>Close</th>\n",
       "      <th>Volume</th>\n",
       "      <th>Adj Close</th>\n",
       "    </tr>\n",
       "  </thead>\n",
       "  <tbody>\n",
       "    <tr>\n",
       "      <th>count</th>\n",
       "      <td>61.000000</td>\n",
       "      <td>61.000000</td>\n",
       "      <td>61.000000</td>\n",
       "      <td>61.000000</td>\n",
       "      <td>6.100000e+01</td>\n",
       "      <td>58.000000</td>\n",
       "    </tr>\n",
       "    <tr>\n",
       "      <th>mean</th>\n",
       "      <td>23594.063686</td>\n",
       "      <td>22332.692816</td>\n",
       "      <td>23076.506212</td>\n",
       "      <td>22938.154650</td>\n",
       "      <td>3.035281e+10</td>\n",
       "      <td>22924.591562</td>\n",
       "    </tr>\n",
       "    <tr>\n",
       "      <th>std</th>\n",
       "      <td>3743.076603</td>\n",
       "      <td>3677.299782</td>\n",
       "      <td>3805.146182</td>\n",
       "      <td>3633.064549</td>\n",
       "      <td>9.888942e+09</td>\n",
       "      <td>3551.673428</td>\n",
       "    </tr>\n",
       "    <tr>\n",
       "      <th>min</th>\n",
       "      <td>19371.748050</td>\n",
       "      <td>17708.623050</td>\n",
       "      <td>19010.902340</td>\n",
       "      <td>19017.642580</td>\n",
       "      <td>1.639082e+10</td>\n",
       "      <td>19242.255860</td>\n",
       "    </tr>\n",
       "    <tr>\n",
       "      <th>25%</th>\n",
       "      <td>20913.322270</td>\n",
       "      <td>19937.791020</td>\n",
       "      <td>20547.814450</td>\n",
       "      <td>20548.246090</td>\n",
       "      <td>2.415025e+10</td>\n",
       "      <td>20557.433590</td>\n",
       "    </tr>\n",
       "    <tr>\n",
       "      <th>50%</th>\n",
       "      <td>21877.138670</td>\n",
       "      <td>20781.912110</td>\n",
       "      <td>21496.494140</td>\n",
       "      <td>21502.337890</td>\n",
       "      <td>2.862467e+10</td>\n",
       "      <td>21547.272460</td>\n",
       "    </tr>\n",
       "    <tr>\n",
       "      <th>75%</th>\n",
       "      <td>24196.818360</td>\n",
       "      <td>23009.949220</td>\n",
       "      <td>23652.070310</td>\n",
       "      <td>23389.433590</td>\n",
       "      <td>3.363101e+10</td>\n",
       "      <td>23376.299312</td>\n",
       "    </tr>\n",
       "    <tr>\n",
       "      <th>max</th>\n",
       "      <td>31957.285160</td>\n",
       "      <td>30020.265630</td>\n",
       "      <td>31792.554690</td>\n",
       "      <td>31370.671880</td>\n",
       "      <td>6.820456e+10</td>\n",
       "      <td>31370.671880</td>\n",
       "    </tr>\n",
       "  </tbody>\n",
       "</table>\n",
       "</div>"
      ],
      "text/plain": [
       "               High           Low         Open          Close        Volume  \\\n",
       "count     61.000000     61.000000     61.000000     61.000000  6.100000e+01   \n",
       "mean   23594.063686  22332.692816  23076.506212  22938.154650  3.035281e+10   \n",
       "std     3743.076603   3677.299782   3805.146182   3633.064549  9.888942e+09   \n",
       "min    19371.748050  17708.623050  19010.902340  19017.642580  1.639082e+10   \n",
       "25%    20913.322270  19937.791020  20547.814450  20548.246090  2.415025e+10   \n",
       "50%    21877.138670  20781.912110  21496.494140  21502.337890  2.862467e+10   \n",
       "75%    24196.818360  23009.949220  23652.070310  23389.433590  3.363101e+10   \n",
       "max    31957.285160  30020.265630  31792.554690  31370.671880  6.820456e+10   \n",
       "\n",
       "          Adj Close  \n",
       "count     58.000000  \n",
       "mean   22924.591562  \n",
       "std     3551.673428  \n",
       "min    19242.255860  \n",
       "25%    20557.433590  \n",
       "50%    21547.272460  \n",
       "75%    23376.299312  \n",
       "max    31370.671880  "
      ]
     },
     "execution_count": 77,
     "metadata": {},
     "output_type": "execute_result"
    }
   ],
   "source": [
    "#look at the description and statistics of the data of all columns in the dataframe created\n",
    "\n",
    "Prices.describe()"
   ]
  },
  {
   "cell_type": "markdown",
   "id": "29083b23",
   "metadata": {},
   "source": [
    "# Check for any missing values (9, 17 and 18 June have NaN Adj Close)"
   ]
  },
  {
   "cell_type": "code",
   "execution_count": 78,
   "id": "81dce7b3",
   "metadata": {},
   "outputs": [
    {
     "name": "stdout",
     "output_type": "stream",
     "text": [
      "<class 'pandas.core.frame.DataFrame'>\n",
      "Int64Index: 61 entries, 0 to 30\n",
      "Data columns (total 7 columns):\n",
      " #   Column     Non-Null Count  Dtype  \n",
      "---  ------     --------------  -----  \n",
      " 0   Date       61 non-null     object \n",
      " 1   High       61 non-null     float64\n",
      " 2   Low        61 non-null     float64\n",
      " 3   Open       61 non-null     float64\n",
      " 4   Close      61 non-null     float64\n",
      " 5   Volume     61 non-null     int64  \n",
      " 6   Adj Close  58 non-null     float64\n",
      "dtypes: float64(5), int64(1), object(1)\n",
      "memory usage: 3.8+ KB\n"
     ]
    }
   ],
   "source": [
    "#look at the information for the columns in the Prices dataframe\n",
    "#see that there are 61 records, but only 58 records for the Adj Close column\n",
    "Prices.info()"
   ]
  },
  {
   "cell_type": "code",
   "execution_count": 79,
   "id": "71ab375b",
   "metadata": {},
   "outputs": [
    {
     "data": {
      "text/plain": [
       "Date         0\n",
       "High         0\n",
       "Low          0\n",
       "Open         0\n",
       "Close        0\n",
       "Volume       0\n",
       "Adj Close    3\n",
       "dtype: int64"
      ]
     },
     "execution_count": 79,
     "metadata": {},
     "output_type": "execute_result"
    }
   ],
   "source": [
    "#another way to check for missing data is as follows\n",
    "#you can see that there are 3 values missing in the Adj Close column\n",
    "\n",
    "Prices.isna().sum()"
   ]
  },
  {
   "cell_type": "markdown",
   "id": "5f1c598d",
   "metadata": {},
   "source": [
    "# Filling the blanks (NaN values) with the mean of the Adj Close column"
   ]
  },
  {
   "cell_type": "code",
   "execution_count": 80,
   "id": "553103b3",
   "metadata": {},
   "outputs": [],
   "source": [
    "#We can fill in the missing values by a variety of different methods\n",
    "#In this project I will fill those missing values with the mean of the Adj Close column\n",
    "\n",
    "Prices['Adj Close'] = Prices['Adj Close'].fillna(Prices['Adj Close'].mean())"
   ]
  },
  {
   "cell_type": "markdown",
   "id": "7d7b7430",
   "metadata": {},
   "source": [
    "# #Passing in a list of the 3 rows which had blanks"
   ]
  },
  {
   "cell_type": "code",
   "execution_count": 81,
   "id": "833436f9",
   "metadata": {},
   "outputs": [
    {
     "data": {
      "text/html": [
       "<div>\n",
       "<style scoped>\n",
       "    .dataframe tbody tr th:only-of-type {\n",
       "        vertical-align: middle;\n",
       "    }\n",
       "\n",
       "    .dataframe tbody tr th {\n",
       "        vertical-align: top;\n",
       "    }\n",
       "\n",
       "    .dataframe thead th {\n",
       "        text-align: right;\n",
       "    }\n",
       "</style>\n",
       "<table border=\"1\" class=\"dataframe\">\n",
       "  <thead>\n",
       "    <tr style=\"text-align: right;\">\n",
       "      <th></th>\n",
       "      <th>Date</th>\n",
       "      <th>High</th>\n",
       "      <th>Low</th>\n",
       "      <th>Open</th>\n",
       "      <th>Close</th>\n",
       "      <th>Volume</th>\n",
       "      <th>Adj Close</th>\n",
       "    </tr>\n",
       "  </thead>\n",
       "  <tbody>\n",
       "    <tr>\n",
       "      <th>8</th>\n",
       "      <td>09/06/2022</td>\n",
       "      <td>30609.31055</td>\n",
       "      <td>30020.26563</td>\n",
       "      <td>30215.27930</td>\n",
       "      <td>30111.99805</td>\n",
       "      <td>21692004719</td>\n",
       "      <td>22924.591562</td>\n",
       "    </tr>\n",
       "    <tr>\n",
       "      <th>16</th>\n",
       "      <td>17/06/2022</td>\n",
       "      <td>21243.31250</td>\n",
       "      <td>20326.51953</td>\n",
       "      <td>20385.71875</td>\n",
       "      <td>20471.48242</td>\n",
       "      <td>27132421514</td>\n",
       "      <td>22924.591562</td>\n",
       "    </tr>\n",
       "    <tr>\n",
       "      <th>17</th>\n",
       "      <td>18/06/2022</td>\n",
       "      <td>20736.04102</td>\n",
       "      <td>17708.62305</td>\n",
       "      <td>20473.42578</td>\n",
       "      <td>19017.64258</td>\n",
       "      <td>42009436760</td>\n",
       "      <td>22924.591562</td>\n",
       "    </tr>\n",
       "  </tbody>\n",
       "</table>\n",
       "</div>"
      ],
      "text/plain": [
       "          Date         High          Low        Open         Close  \\\n",
       "8   09/06/2022  30609.31055  30020.26563  30215.27930  30111.99805   \n",
       "16  17/06/2022  21243.31250  20326.51953  20385.71875  20471.48242   \n",
       "17  18/06/2022  20736.04102  17708.62305  20473.42578  19017.64258   \n",
       "\n",
       "         Volume     Adj Close  \n",
       "8   21692004719  22924.591562  \n",
       "16  27132421514  22924.591562  \n",
       "17  42009436760  22924.591562  "
      ]
     },
     "execution_count": 81,
     "metadata": {},
     "output_type": "execute_result"
    }
   ],
   "source": [
    "#check the rows that had missing values to see that they all have the mean populated for Adj Close on those dates\n",
    "#this value matches the mean shown in prices.describe above\n",
    "\n",
    "Prices.iloc[[8,16,17]]"
   ]
  },
  {
   "cell_type": "code",
   "execution_count": 82,
   "id": "ee58a1d8",
   "metadata": {},
   "outputs": [
    {
     "name": "stdout",
     "output_type": "stream",
     "text": [
      "          Date         High          Low        Open         Close  \\\n",
      "0   01/06/2022  31957.28516  29501.58789  31792.55469  29799.08008   \n",
      "1   02/06/2022  30604.73438  29652.70508  29794.89063  30467.48828   \n",
      "2   03/06/2022  30633.03516  29375.68945  30467.80664  29704.39063   \n",
      "3   04/06/2022  29930.56445  29500.00586  29706.13867  29832.91406   \n",
      "4   05/06/2022  30117.74414  29574.44922  29835.11719  29906.66211   \n",
      "..         ...          ...          ...          ...          ...   \n",
      "26  27/07/2022  22986.52930  21070.80664  21244.16992  22930.54883   \n",
      "27  28/07/2022  24110.47070  22722.26563  22933.64063  23843.88672   \n",
      "28  29/07/2022  24294.78711  23481.17383  23845.21289  23804.63281   \n",
      "29  30/07/2022  24572.58008  23580.50781  23796.81836  23656.20703   \n",
      "30  31/07/2022  24121.64258  23275.70313  23652.07031  23336.89648   \n",
      "\n",
      "         Volume    Adj Close  \n",
      "0   41135817341  29799.08008  \n",
      "1   29083562061  30467.48828  \n",
      "2   26175547452  29704.39063  \n",
      "3   16588370958  29832.91406  \n",
      "4   17264085441  29906.66211  \n",
      "..          ...          ...  \n",
      "26  31758955233  22930.54883  \n",
      "27  40212386158  23843.88672  \n",
      "28  35887249746  23804.63281  \n",
      "29  28148218301  23656.20703  \n",
      "30  23553591896  23336.89648  \n",
      "\n",
      "[61 rows x 7 columns]\n"
     ]
    }
   ],
   "source": [
    "#view the prices dataframe\n",
    "\n",
    "print(Prices)"
   ]
  },
  {
   "cell_type": "code",
   "execution_count": 83,
   "id": "33e5509d",
   "metadata": {},
   "outputs": [
    {
     "data": {
      "image/png": "[encoded data removed]",
      "text/plain": [
       "<Figure size 1008x432 with 1 Axes>"
      ]
     },
     "metadata": {
      "needs_background": "light"
     },
     "output_type": "display_data"
    }
   ],
   "source": [
    "#import matplotlib\n",
    "#plot a line graph of the Close prices of Bitcoin for June and July\n",
    "\n",
    "import matplotlib.pyplot as plt\n",
    "Prices.plot(x = 'Date', y = 'Close', kind = 'line', figsize = (14,6),legend=False, color = 'r', fontsize = 12)\n",
    "plt.xlabel('Date', fontsize = 14)\n",
    "plt.ylabel('Price', fontsize = 14)\n",
    "plt.title('Bitcoin Closing Prices', fontsize = 16)\n",
    "plt.show()"
   ]
  },
  {
   "cell_type": "code",
   "execution_count": 84,
   "id": "696a456c",
   "metadata": {},
   "outputs": [
    {
     "data": {
      "text/plain": [
       "<AxesSubplot:>"
      ]
     },
     "execution_count": 84,
     "metadata": {},
     "output_type": "execute_result"
    },
    {
     "data": {
      "image/png": "[encoded data removed]",
      "text/plain": [
       "<Figure size 1080x432 with 1 Axes>"
      ]
     },
     "metadata": {
      "needs_background": "light"
     },
     "output_type": "display_data"
    }
   ],
   "source": [
    "#import Seaborn\n",
    "#plot a boxplot chart of four of the Bitcoin prices\n",
    "\n",
    "import seaborn as sns\n",
    "\n",
    "Pricing_df = Prices.drop(['Volume','Adj Close'], axis=1)\n",
    "\n",
    "plt.figure(figsize=(15, 6))\n",
    "sns.boxplot(data=Pricing_df)"
   ]
  },
  {
   "cell_type": "code",
   "execution_count": 85,
   "id": "f16e8081",
   "metadata": {},
   "outputs": [],
   "source": [
    "#a = sns.FacetGrid(Pricing_df, col = 'Close')\n",
    "#a.map(plt.hist, 'Volume', bins = 5)\n",
    "#plt.show()"
   ]
  },
  {
   "cell_type": "code",
   "execution_count": 86,
   "id": "878d5485",
   "metadata": {},
   "outputs": [
    {
     "ename": "SyntaxError",
     "evalue": "invalid syntax (Temp/ipykernel_13328/3703941588.py, line 8)",
     "output_type": "error",
     "traceback": [
      "\u001b[1;36m  File \u001b[1;32m\"C:\\Users\\spagg\\AppData\\Local\\Temp/ipykernel_13328/3703941588.py\"\u001b[1;36m, line \u001b[1;32m8\u001b[0m\n\u001b[1;33m    Prices.head()\u001b[0m\n\u001b[1;37m    ^\u001b[0m\n\u001b[1;31mSyntaxError\u001b[0m\u001b[1;31m:\u001b[0m invalid syntax\n"
     ]
    }
   ],
   "source": [
    "import numpy as np\n",
    "import pandas as pd\n",
    "def diff(a,b):\n",
    "    return b - a\n",
    "\n",
    "\n",
    "Prices['DiffOC'] = Prices['DiffOC]'.apply(diff)\n",
    "Prices.head()"
   ]
  },
  {
   "cell_type": "code",
   "execution_count": 87,
   "id": "1073ef47",
   "metadata": {},
   "outputs": [],
   "source": [
    "Prices['OpenToClose(%)'] = ((Prices['Close'] / Prices['Open '] - 1)*100).fillna(0)"
   ]
  },
  {
   "cell_type": "code",
   "execution_count": 88,
   "id": "319783e0",
   "metadata": {},
   "outputs": [],
   "source": [
    "Prices['DailyCHG(%)'] = Prices['Close'].pct_change()*100"
   ]
  },
  {
   "cell_type": "code",
   "execution_count": 89,
   "id": "67e95403",
   "metadata": {},
   "outputs": [
    {
     "data": {
      "text/html": [
       "<div>\n",
       "<style scoped>\n",
       "    .dataframe tbody tr th:only-of-type {\n",
       "        vertical-align: middle;\n",
       "    }\n",
       "\n",
       "    .dataframe tbody tr th {\n",
       "        vertical-align: top;\n",
       "    }\n",
       "\n",
       "    .dataframe thead th {\n",
       "        text-align: right;\n",
       "    }\n",
       "</style>\n",
       "<table border=\"1\" class=\"dataframe\">\n",
       "  <thead>\n",
       "    <tr style=\"text-align: right;\">\n",
       "      <th></th>\n",
       "      <th>Date</th>\n",
       "      <th>High</th>\n",
       "      <th>Low</th>\n",
       "      <th>Open</th>\n",
       "      <th>Close</th>\n",
       "      <th>Volume</th>\n",
       "      <th>Adj Close</th>\n",
       "      <th>OpenToClose(%)</th>\n",
       "      <th>DailyCHG(%)</th>\n",
       "    </tr>\n",
       "  </thead>\n",
       "  <tbody>\n",
       "    <tr>\n",
       "      <th>0</th>\n",
       "      <td>01/06/2022</td>\n",
       "      <td>31957.28516</td>\n",
       "      <td>29501.58789</td>\n",
       "      <td>31792.55469</td>\n",
       "      <td>29799.08008</td>\n",
       "      <td>41135817341</td>\n",
       "      <td>29799.08008</td>\n",
       "      <td>-6.270256</td>\n",
       "      <td>NaN</td>\n",
       "    </tr>\n",
       "    <tr>\n",
       "      <th>1</th>\n",
       "      <td>02/06/2022</td>\n",
       "      <td>30604.73438</td>\n",
       "      <td>29652.70508</td>\n",
       "      <td>29794.89063</td>\n",
       "      <td>30467.48828</td>\n",
       "      <td>29083562061</td>\n",
       "      <td>30467.48828</td>\n",
       "      <td>2.257426</td>\n",
       "      <td>2.243050</td>\n",
       "    </tr>\n",
       "    <tr>\n",
       "      <th>2</th>\n",
       "      <td>03/06/2022</td>\n",
       "      <td>30633.03516</td>\n",
       "      <td>29375.68945</td>\n",
       "      <td>30467.80664</td>\n",
       "      <td>29704.39063</td>\n",
       "      <td>26175547452</td>\n",
       "      <td>29704.39063</td>\n",
       "      <td>-2.505648</td>\n",
       "      <td>-2.504629</td>\n",
       "    </tr>\n",
       "    <tr>\n",
       "      <th>3</th>\n",
       "      <td>04/06/2022</td>\n",
       "      <td>29930.56445</td>\n",
       "      <td>29500.00586</td>\n",
       "      <td>29706.13867</td>\n",
       "      <td>29832.91406</td>\n",
       "      <td>16588370958</td>\n",
       "      <td>29832.91406</td>\n",
       "      <td>0.426765</td>\n",
       "      <td>0.432675</td>\n",
       "    </tr>\n",
       "    <tr>\n",
       "      <th>4</th>\n",
       "      <td>05/06/2022</td>\n",
       "      <td>30117.74414</td>\n",
       "      <td>29574.44922</td>\n",
       "      <td>29835.11719</td>\n",
       "      <td>29906.66211</td>\n",
       "      <td>17264085441</td>\n",
       "      <td>29906.66211</td>\n",
       "      <td>0.239801</td>\n",
       "      <td>0.247204</td>\n",
       "    </tr>\n",
       "  </tbody>\n",
       "</table>\n",
       "</div>"
      ],
      "text/plain": [
       "         Date         High          Low        Open         Close  \\\n",
       "0  01/06/2022  31957.28516  29501.58789  31792.55469  29799.08008   \n",
       "1  02/06/2022  30604.73438  29652.70508  29794.89063  30467.48828   \n",
       "2  03/06/2022  30633.03516  29375.68945  30467.80664  29704.39063   \n",
       "3  04/06/2022  29930.56445  29500.00586  29706.13867  29832.91406   \n",
       "4  05/06/2022  30117.74414  29574.44922  29835.11719  29906.66211   \n",
       "\n",
       "        Volume    Adj Close  OpenToClose(%)  DailyCHG(%)  \n",
       "0  41135817341  29799.08008       -6.270256          NaN  \n",
       "1  29083562061  30467.48828        2.257426     2.243050  \n",
       "2  26175547452  29704.39063       -2.505648    -2.504629  \n",
       "3  16588370958  29832.91406        0.426765     0.432675  \n",
       "4  17264085441  29906.66211        0.239801     0.247204  "
      ]
     },
     "execution_count": 89,
     "metadata": {},
     "output_type": "execute_result"
    }
   ],
   "source": [
    "Prices.head()"
   ]
  },
  {
   "cell_type": "code",
   "execution_count": null,
   "id": "8e947596",
   "metadata": {},
   "outputs": [],
   "source": []
  }
 ],
 "metadata": {
  "kernelspec": {
   "display_name": "Python 3 (ipykernel)",
   "language": "python",
   "name": "python3"
  },
  "language_info": {
   "codemirror_mode": {
    "name": "ipython",
    "version": 3
   },
   "file_extension": ".py",
   "mimetype": "text/x-python",
   "name": "python",
   "nbconvert_exporter": "python",
   "pygments_lexer": "ipython3",
   "version": "3.9.7"
  }
 },
 "nbformat": 4,
 "nbformat_minor": 5
}
