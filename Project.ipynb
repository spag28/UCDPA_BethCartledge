{
 "cells": [
  {
   "cell_type": "markdown",
   "id": "ad2933a1",
   "metadata": {},
   "source": [
    "# Importing Data - API (US CPI data)\n",
    "Source: https://www.alphavantage.co/ Inflation"
   ]
  },
  {
   "cell_type": "code",
   "execution_count": 38,
   "id": "0c9d3ea5",
   "metadata": {},
   "outputs": [
    {
     "name": "stdout",
     "output_type": "stream",
     "text": [
      "{'name': 'Inflation - US Consumer Prices', 'interval': 'annual', 'unit': 'percent', 'data': [{'date': '2021-01-01', 'value': '4.69785886363739'}, {'date': '2020-01-01', 'value': '1.23358439630637'}, {'date': '2019-01-01', 'value': '1.81221007526015'}, {'date': '2018-01-01', 'value': '2.44258329692818'}, {'date': '2017-01-01', 'value': '2.13011000365963'}, {'date': '2016-01-01', 'value': '1.26158320570537'}, {'date': '2015-01-01', 'value': '0.118627135552435'}, {'date': '2014-01-01', 'value': '1.62222297740821'}, {'date': '2013-01-01', 'value': '1.46483265562714'}, {'date': '2012-01-01', 'value': '2.06933726526059'}, {'date': '2011-01-01', 'value': '3.15684156862206'}, {'date': '2010-01-01', 'value': '1.64004344238989'}, {'date': '2009-01-01', 'value': '-0.35554626629975'}, {'date': '2008-01-01', 'value': '3.83910029665101'}, {'date': '2007-01-01', 'value': '2.85267248150136'}, {'date': '2006-01-01', 'value': '3.22594410070407'}, {'date': '2005-01-01', 'value': '3.39274684549547'}, {'date': '2004-01-01', 'value': '2.67723669309173'}, {'date': '2003-01-01', 'value': '2.27009497336113'}, {'date': '2002-01-01', 'value': '1.58603162650603'}, {'date': '2001-01-01', 'value': '2.82617111885402'}, {'date': '2000-01-01', 'value': '3.37685727149935'}, {'date': '1999-01-01', 'value': '2.18802719697358'}, {'date': '1998-01-01', 'value': '1.55227909874362'}, {'date': '1997-01-01', 'value': '2.33768993730741'}, {'date': '1996-01-01', 'value': '2.9312041999344'}, {'date': '1995-01-01', 'value': '2.80541968853655'}, {'date': '1994-01-01', 'value': '2.6074415921546'}, {'date': '1993-01-01', 'value': '2.95165696638554'}, {'date': '1992-01-01', 'value': '3.0288196781497'}, {'date': '1991-01-01', 'value': '4.23496396453853'}, {'date': '1990-01-01', 'value': '5.39795643990322'}, {'date': '1989-01-01', 'value': '4.82700303008949'}, {'date': '1988-01-01', 'value': '4.07774110744408'}, {'date': '1987-01-01', 'value': '3.66456321751691'}, {'date': '1986-01-01', 'value': '1.89804772234275'}, {'date': '1985-01-01', 'value': '3.54564415209369'}, {'date': '1984-01-01', 'value': '4.30053547523427'}, {'date': '1983-01-01', 'value': '3.21243523316063'}, {'date': '1982-01-01', 'value': '6.13142700027494'}, {'date': '1981-01-01', 'value': '10.3347153402771'}, {'date': '1980-01-01', 'value': '13.5492019749684'}, {'date': '1979-01-01', 'value': '11.2544711292795'}, {'date': '1978-01-01', 'value': '7.63096383885602'}, {'date': '1977-01-01', 'value': '6.50168399472839'}, {'date': '1976-01-01', 'value': '5.74481263549085'}, {'date': '1975-01-01', 'value': '9.14314686496534'}, {'date': '1974-01-01', 'value': '11.0548048048048'}, {'date': '1973-01-01', 'value': '6.17776006377041'}, {'date': '1972-01-01', 'value': '3.27227824655283'}, {'date': '1971-01-01', 'value': '4.29276668813045'}, {'date': '1970-01-01', 'value': '5.83825533848253'}, {'date': '1969-01-01', 'value': '5.4623862002875'}, {'date': '1968-01-01', 'value': '4.27179615288534'}, {'date': '1967-01-01', 'value': '2.77278562259307'}, {'date': '1966-01-01', 'value': '3.01507537688439'}, {'date': '1965-01-01', 'value': '1.58516926383669'}, {'date': '1964-01-01', 'value': '1.27891156462583'}, {'date': '1963-01-01', 'value': '1.2396694214876'}, {'date': '1962-01-01', 'value': '1.19877334820185'}, {'date': '1961-01-01', 'value': '1.07072414764723'}, {'date': '1960-01-01', 'value': '1.45797598627786'}]}\n"
     ]
    }
   ],
   "source": [
    "#This API returns the annual inflation rates (consumer prices) of the United States via API\n",
    "#The data is in the shape of a dictionary with keys for the column names and values showing the values in that column\n",
    "\n",
    "import requests\n",
    "\n",
    "url = 'https://www.alphavantage.co/query?function=INFLATION&apikey=MJJULQ2LBSJJVTWV'\n",
    "r = requests.get(url)\n",
    "data = r.json()\n",
    "\n",
    "print(data)"
   ]
  },
  {
   "cell_type": "code",
   "execution_count": 39,
   "id": "5a4c02c4",
   "metadata": {},
   "outputs": [
    {
     "data": {
      "text/plain": [
       "dict_keys(['name', 'interval', 'unit', 'data'])"
      ]
     },
     "execution_count": 39,
     "metadata": {},
     "output_type": "execute_result"
    }
   ],
   "source": [
    "#view the keys of the dictionary retrived from the API\n",
    "\n",
    "data.keys() "
   ]
  },
  {
   "cell_type": "code",
   "execution_count": 40,
   "id": "32d775a7",
   "metadata": {},
   "outputs": [
    {
     "data": {
      "text/html": [
       "<div>\n",
       "<style scoped>\n",
       "    .dataframe tbody tr th:only-of-type {\n",
       "        vertical-align: middle;\n",
       "    }\n",
       "\n",
       "    .dataframe tbody tr th {\n",
       "        vertical-align: top;\n",
       "    }\n",
       "\n",
       "    .dataframe thead th {\n",
       "        text-align: right;\n",
       "    }\n",
       "</style>\n",
       "<table border=\"1\" class=\"dataframe\">\n",
       "  <thead>\n",
       "    <tr style=\"text-align: right;\">\n",
       "      <th></th>\n",
       "      <th>date</th>\n",
       "      <th>value</th>\n",
       "    </tr>\n",
       "  </thead>\n",
       "  <tbody>\n",
       "    <tr>\n",
       "      <th>0</th>\n",
       "      <td>2021-01-01</td>\n",
       "      <td>4.69785886363739</td>\n",
       "    </tr>\n",
       "    <tr>\n",
       "      <th>1</th>\n",
       "      <td>2020-01-01</td>\n",
       "      <td>1.23358439630637</td>\n",
       "    </tr>\n",
       "    <tr>\n",
       "      <th>2</th>\n",
       "      <td>2019-01-01</td>\n",
       "      <td>1.81221007526015</td>\n",
       "    </tr>\n",
       "    <tr>\n",
       "      <th>3</th>\n",
       "      <td>2018-01-01</td>\n",
       "      <td>2.44258329692818</td>\n",
       "    </tr>\n",
       "    <tr>\n",
       "      <th>4</th>\n",
       "      <td>2017-01-01</td>\n",
       "      <td>2.13011000365963</td>\n",
       "    </tr>\n",
       "    <tr>\n",
       "      <th>...</th>\n",
       "      <td>...</td>\n",
       "      <td>...</td>\n",
       "    </tr>\n",
       "    <tr>\n",
       "      <th>57</th>\n",
       "      <td>1964-01-01</td>\n",
       "      <td>1.27891156462583</td>\n",
       "    </tr>\n",
       "    <tr>\n",
       "      <th>58</th>\n",
       "      <td>1963-01-01</td>\n",
       "      <td>1.2396694214876</td>\n",
       "    </tr>\n",
       "    <tr>\n",
       "      <th>59</th>\n",
       "      <td>1962-01-01</td>\n",
       "      <td>1.19877334820185</td>\n",
       "    </tr>\n",
       "    <tr>\n",
       "      <th>60</th>\n",
       "      <td>1961-01-01</td>\n",
       "      <td>1.07072414764723</td>\n",
       "    </tr>\n",
       "    <tr>\n",
       "      <th>61</th>\n",
       "      <td>1960-01-01</td>\n",
       "      <td>1.45797598627786</td>\n",
       "    </tr>\n",
       "  </tbody>\n",
       "</table>\n",
       "<p>62 rows × 2 columns</p>\n",
       "</div>"
      ],
      "text/plain": [
       "          date             value\n",
       "0   2021-01-01  4.69785886363739\n",
       "1   2020-01-01  1.23358439630637\n",
       "2   2019-01-01  1.81221007526015\n",
       "3   2018-01-01  2.44258329692818\n",
       "4   2017-01-01  2.13011000365963\n",
       "..         ...               ...\n",
       "57  1964-01-01  1.27891156462583\n",
       "58  1963-01-01   1.2396694214876\n",
       "59  1962-01-01  1.19877334820185\n",
       "60  1961-01-01  1.07072414764723\n",
       "61  1960-01-01  1.45797598627786\n",
       "\n",
       "[62 rows x 2 columns]"
      ]
     },
     "execution_count": 40,
     "metadata": {},
     "output_type": "execute_result"
    }
   ],
   "source": [
    "#import pandas and convert the dictionary to a dataframe\n",
    "\n",
    "import pandas as pd\n",
    "df = data['data'] \n",
    "df = pd.DataFrame(df)\n",
    "df"
   ]
  },
  {
   "cell_type": "code",
   "execution_count": 41,
   "id": "163314dc",
   "metadata": {},
   "outputs": [
    {
     "name": "stdout",
     "output_type": "stream",
     "text": [
      "         date             value\n",
      "0  2021-01-01  4.69785886363739\n",
      "1  2020-01-01  1.23358439630637\n",
      "2  2019-01-01  1.81221007526015\n",
      "3  2018-01-01  2.44258329692818\n",
      "4  2017-01-01  2.13011000365963\n"
     ]
    }
   ],
   "source": [
    "#view the top 5 rows of the dataframe\n",
    "\n",
    "print(df.head())"
   ]
  },
  {
   "cell_type": "code",
   "execution_count": 42,
   "id": "a3cbc290",
   "metadata": {},
   "outputs": [
    {
     "name": "stdout",
     "output_type": "stream",
     "text": [
      "              date             value\n",
      "count           62                62\n",
      "unique          62                62\n",
      "top     2021-01-01  4.69785886363739\n",
      "freq             1                 1\n"
     ]
    }
   ],
   "source": [
    "#look at the description of the data in the dataframe created\n",
    "\n",
    "print(df.describe())"
   ]
  },
  {
   "cell_type": "code",
   "execution_count": 43,
   "id": "9defbd61",
   "metadata": {},
   "outputs": [
    {
     "name": "stdout",
     "output_type": "stream",
     "text": [
      "<class 'pandas.core.frame.DataFrame'>\n",
      "RangeIndex: 62 entries, 0 to 61\n",
      "Data columns (total 2 columns):\n",
      " #   Column  Non-Null Count  Dtype \n",
      "---  ------  --------------  ----- \n",
      " 0   date    62 non-null     object\n",
      " 1   value   62 non-null     object\n",
      "dtypes: object(2)\n",
      "memory usage: 1.1+ KB\n"
     ]
    }
   ],
   "source": [
    "#look at the summary of the data in the dataframe and check the datatypes\n",
    "\n",
    "df.info()"
   ]
  },
  {
   "cell_type": "code",
   "execution_count": 44,
   "id": "0441de2d",
   "metadata": {},
   "outputs": [],
   "source": [
    "#convert the datatypes for both columns from object to float and date\n",
    "\n",
    "df['value']=df['value'].astype(float)\n",
    "df['date']= pd.to_datetime(df['date'])"
   ]
  },
  {
   "cell_type": "code",
   "execution_count": 45,
   "id": "ec049628",
   "metadata": {},
   "outputs": [
    {
     "data": {
      "text/plain": [
       "date     datetime64[ns]\n",
       "value           float64\n",
       "dtype: object"
      ]
     },
     "execution_count": 45,
     "metadata": {},
     "output_type": "execute_result"
    }
   ],
   "source": [
    "#check the datatypes have been converted and what each column is\n",
    "\n",
    "df.dtypes"
   ]
  },
  {
   "cell_type": "code",
   "execution_count": 46,
   "id": "35788aef",
   "metadata": {},
   "outputs": [
    {
     "data": {
      "image/png": "[encoded data removed]",
      "text/plain": [
       "<Figure size 720x432 with 1 Axes>"
      ]
     },
     "metadata": {
      "needs_background": "light"
     },
     "output_type": "display_data"
    }
   ],
   "source": [
    "#create a graph of the data\n",
    "\n",
    "import matplotlib.pyplot as plt\n",
    "df.plot(x = 'date', y = 'value', kind = 'line', color= 'g',figsize = (10,6),legend=False)\n",
    "plt.xlabel('Date')\n",
    "plt.ylabel('Index')\n",
    "plt.title('US CPI Inflation')\n",
    "plt.show()"
   ]
  },
  {
   "cell_type": "markdown",
   "id": "ca26ff08",
   "metadata": {},
   "source": [
    "# Importing Data - csv files (Bitcoin prices for June and July)"
   ]
  },
  {
   "cell_type": "code",
   "execution_count": 47,
   "id": "9f58a266",
   "metadata": {},
   "outputs": [
    {
     "data": {
      "text/plain": [
       "(30, 7)"
      ]
     },
     "execution_count": 47,
     "metadata": {},
     "output_type": "execute_result"
    }
   ],
   "source": [
    "#import pandas and import a csv file with Bitcoin prices for June 2022\n",
    "\n",
    "import pandas as pd\n",
    "df1 = pd.read_csv('June22 daily BTC.csv')\n",
    "df1.shape"
   ]
  },
  {
   "cell_type": "code",
   "execution_count": 48,
   "id": "5bc6ee82",
   "metadata": {},
   "outputs": [
    {
     "data": {
      "text/plain": [
       "(31, 7)"
      ]
     },
     "execution_count": 48,
     "metadata": {},
     "output_type": "execute_result"
    }
   ],
   "source": [
    "#import another csv file with Bitcoin prices for July 2022\n",
    "\n",
    "df2 = pd.read_csv('July22 daily BTC.csv')\n",
    "df2.shape"
   ]
  },
  {
   "cell_type": "code",
   "execution_count": 49,
   "id": "dee9f72d",
   "metadata": {},
   "outputs": [
    {
     "data": {
      "text/html": [
       "<div>\n",
       "<style scoped>\n",
       "    .dataframe tbody tr th:only-of-type {\n",
       "        vertical-align: middle;\n",
       "    }\n",
       "\n",
       "    .dataframe tbody tr th {\n",
       "        vertical-align: top;\n",
       "    }\n",
       "\n",
       "    .dataframe thead th {\n",
       "        text-align: right;\n",
       "    }\n",
       "</style>\n",
       "<table border=\"1\" class=\"dataframe\">\n",
       "  <thead>\n",
       "    <tr style=\"text-align: right;\">\n",
       "      <th></th>\n",
       "      <th>Date</th>\n",
       "      <th>High</th>\n",
       "      <th>Low</th>\n",
       "      <th>Open</th>\n",
       "      <th>Close</th>\n",
       "      <th>Volume</th>\n",
       "      <th>Adj Close</th>\n",
       "    </tr>\n",
       "  </thead>\n",
       "  <tbody>\n",
       "    <tr>\n",
       "      <th>0</th>\n",
       "      <td>01/06/2022</td>\n",
       "      <td>31957.28516</td>\n",
       "      <td>29501.58789</td>\n",
       "      <td>31792.55469</td>\n",
       "      <td>29799.08008</td>\n",
       "      <td>41135817341</td>\n",
       "      <td>29799.08008</td>\n",
       "    </tr>\n",
       "    <tr>\n",
       "      <th>1</th>\n",
       "      <td>02/06/2022</td>\n",
       "      <td>30604.73438</td>\n",
       "      <td>29652.70508</td>\n",
       "      <td>29794.89063</td>\n",
       "      <td>30467.48828</td>\n",
       "      <td>29083562061</td>\n",
       "      <td>30467.48828</td>\n",
       "    </tr>\n",
       "    <tr>\n",
       "      <th>2</th>\n",
       "      <td>03/06/2022</td>\n",
       "      <td>30633.03516</td>\n",
       "      <td>29375.68945</td>\n",
       "      <td>30467.80664</td>\n",
       "      <td>29704.39063</td>\n",
       "      <td>26175547452</td>\n",
       "      <td>29704.39063</td>\n",
       "    </tr>\n",
       "    <tr>\n",
       "      <th>3</th>\n",
       "      <td>04/06/2022</td>\n",
       "      <td>29930.56445</td>\n",
       "      <td>29500.00586</td>\n",
       "      <td>29706.13867</td>\n",
       "      <td>29832.91406</td>\n",
       "      <td>16588370958</td>\n",
       "      <td>29832.91406</td>\n",
       "    </tr>\n",
       "    <tr>\n",
       "      <th>4</th>\n",
       "      <td>05/06/2022</td>\n",
       "      <td>30117.74414</td>\n",
       "      <td>29574.44922</td>\n",
       "      <td>29835.11719</td>\n",
       "      <td>29906.66211</td>\n",
       "      <td>17264085441</td>\n",
       "      <td>29906.66211</td>\n",
       "    </tr>\n",
       "  </tbody>\n",
       "</table>\n",
       "</div>"
      ],
      "text/plain": [
       "         Date         High          Low        Open         Close  \\\n",
       "0  01/06/2022  31957.28516  29501.58789  31792.55469  29799.08008   \n",
       "1  02/06/2022  30604.73438  29652.70508  29794.89063  30467.48828   \n",
       "2  03/06/2022  30633.03516  29375.68945  30467.80664  29704.39063   \n",
       "3  04/06/2022  29930.56445  29500.00586  29706.13867  29832.91406   \n",
       "4  05/06/2022  30117.74414  29574.44922  29835.11719  29906.66211   \n",
       "\n",
       "        Volume    Adj Close  \n",
       "0  41135817341  29799.08008  \n",
       "1  29083562061  30467.48828  \n",
       "2  26175547452  29704.39063  \n",
       "3  16588370958  29832.91406  \n",
       "4  17264085441  29906.66211  "
      ]
     },
     "execution_count": 49,
     "metadata": {},
     "output_type": "execute_result"
    }
   ],
   "source": [
    "#view the top 5 rows of the June data imported\n",
    "\n",
    "df1.head()"
   ]
  },
  {
   "cell_type": "code",
   "execution_count": 50,
   "id": "1cb1476e",
   "metadata": {},
   "outputs": [
    {
     "data": {
      "text/html": [
       "<div>\n",
       "<style scoped>\n",
       "    .dataframe tbody tr th:only-of-type {\n",
       "        vertical-align: middle;\n",
       "    }\n",
       "\n",
       "    .dataframe tbody tr th {\n",
       "        vertical-align: top;\n",
       "    }\n",
       "\n",
       "    .dataframe thead th {\n",
       "        text-align: right;\n",
       "    }\n",
       "</style>\n",
       "<table border=\"1\" class=\"dataframe\">\n",
       "  <thead>\n",
       "    <tr style=\"text-align: right;\">\n",
       "      <th></th>\n",
       "      <th>Date</th>\n",
       "      <th>High</th>\n",
       "      <th>Low</th>\n",
       "      <th>Open</th>\n",
       "      <th>Close</th>\n",
       "      <th>Volume</th>\n",
       "      <th>Adj Close</th>\n",
       "    </tr>\n",
       "  </thead>\n",
       "  <tbody>\n",
       "    <tr>\n",
       "      <th>26</th>\n",
       "      <td>27/07/2022</td>\n",
       "      <td>22986.52930</td>\n",
       "      <td>21070.80664</td>\n",
       "      <td>21244.16992</td>\n",
       "      <td>22930.54883</td>\n",
       "      <td>31758955233</td>\n",
       "      <td>22930.54883</td>\n",
       "    </tr>\n",
       "    <tr>\n",
       "      <th>27</th>\n",
       "      <td>28/07/2022</td>\n",
       "      <td>24110.47070</td>\n",
       "      <td>22722.26563</td>\n",
       "      <td>22933.64063</td>\n",
       "      <td>23843.88672</td>\n",
       "      <td>40212386158</td>\n",
       "      <td>23843.88672</td>\n",
       "    </tr>\n",
       "    <tr>\n",
       "      <th>28</th>\n",
       "      <td>29/07/2022</td>\n",
       "      <td>24294.78711</td>\n",
       "      <td>23481.17383</td>\n",
       "      <td>23845.21289</td>\n",
       "      <td>23804.63281</td>\n",
       "      <td>35887249746</td>\n",
       "      <td>23804.63281</td>\n",
       "    </tr>\n",
       "    <tr>\n",
       "      <th>29</th>\n",
       "      <td>30/07/2022</td>\n",
       "      <td>24572.58008</td>\n",
       "      <td>23580.50781</td>\n",
       "      <td>23796.81836</td>\n",
       "      <td>23656.20703</td>\n",
       "      <td>28148218301</td>\n",
       "      <td>23656.20703</td>\n",
       "    </tr>\n",
       "    <tr>\n",
       "      <th>30</th>\n",
       "      <td>31/07/2022</td>\n",
       "      <td>24121.64258</td>\n",
       "      <td>23275.70313</td>\n",
       "      <td>23652.07031</td>\n",
       "      <td>23336.89648</td>\n",
       "      <td>23553591896</td>\n",
       "      <td>23336.89648</td>\n",
       "    </tr>\n",
       "  </tbody>\n",
       "</table>\n",
       "</div>"
      ],
      "text/plain": [
       "          Date         High          Low        Open         Close  \\\n",
       "26  27/07/2022  22986.52930  21070.80664  21244.16992  22930.54883   \n",
       "27  28/07/2022  24110.47070  22722.26563  22933.64063  23843.88672   \n",
       "28  29/07/2022  24294.78711  23481.17383  23845.21289  23804.63281   \n",
       "29  30/07/2022  24572.58008  23580.50781  23796.81836  23656.20703   \n",
       "30  31/07/2022  24121.64258  23275.70313  23652.07031  23336.89648   \n",
       "\n",
       "         Volume    Adj Close  \n",
       "26  31758955233  22930.54883  \n",
       "27  40212386158  23843.88672  \n",
       "28  35887249746  23804.63281  \n",
       "29  28148218301  23656.20703  \n",
       "30  23553591896  23336.89648  "
      ]
     },
     "execution_count": 50,
     "metadata": {},
     "output_type": "execute_result"
    }
   ],
   "source": [
    "#view the last 5 rows of data from the July data imported\n",
    "\n",
    "df2.tail()"
   ]
  },
  {
   "cell_type": "markdown",
   "id": "5ca29174",
   "metadata": {},
   "source": [
    "# Join the June and July datasets into one dataframe called Prices"
   ]
  },
  {
   "cell_type": "code",
   "execution_count": 51,
   "id": "db7b294f",
   "metadata": {},
   "outputs": [],
   "source": [
    "#join the two months datasets into one dataframe\n",
    "\n",
    "dfJune = pd.DataFrame(df1)\n",
    "dfJuly = pd.DataFrame(df2)\n",
    "Prices = pd.concat([dfJune, dfJuly],axis = 0)"
   ]
  },
  {
   "cell_type": "code",
   "execution_count": 52,
   "id": "22d12ec4",
   "metadata": {},
   "outputs": [
    {
     "name": "stdout",
     "output_type": "stream",
     "text": [
      "          Date         High          Low        Open         Close  \\\n",
      "0   01/06/2022  31957.28516  29501.58789  31792.55469  29799.08008   \n",
      "1   02/06/2022  30604.73438  29652.70508  29794.89063  30467.48828   \n",
      "2   03/06/2022  30633.03516  29375.68945  30467.80664  29704.39063   \n",
      "3   04/06/2022  29930.56445  29500.00586  29706.13867  29832.91406   \n",
      "4   05/06/2022  30117.74414  29574.44922  29835.11719  29906.66211   \n",
      "..         ...          ...          ...          ...          ...   \n",
      "26  27/07/2022  22986.52930  21070.80664  21244.16992  22930.54883   \n",
      "27  28/07/2022  24110.47070  22722.26563  22933.64063  23843.88672   \n",
      "28  29/07/2022  24294.78711  23481.17383  23845.21289  23804.63281   \n",
      "29  30/07/2022  24572.58008  23580.50781  23796.81836  23656.20703   \n",
      "30  31/07/2022  24121.64258  23275.70313  23652.07031  23336.89648   \n",
      "\n",
      "         Volume    Adj Close  \n",
      "0   41135817341  29799.08008  \n",
      "1   29083562061  30467.48828  \n",
      "2   26175547452  29704.39063  \n",
      "3   16588370958  29832.91406  \n",
      "4   17264085441  29906.66211  \n",
      "..          ...          ...  \n",
      "26  31758955233  22930.54883  \n",
      "27  40212386158  23843.88672  \n",
      "28  35887249746  23804.63281  \n",
      "29  28148218301  23656.20703  \n",
      "30  23553591896  23336.89648  \n",
      "\n",
      "[61 rows x 7 columns]\n"
     ]
    }
   ],
   "source": [
    "#view the newly created Dataframe of prices for June and July\n",
    "\n",
    "print(Prices)"
   ]
  },
  {
   "cell_type": "code",
   "execution_count": 53,
   "id": "0bae53b6",
   "metadata": {},
   "outputs": [
    {
     "data": {
      "text/plain": [
       "True"
      ]
     },
     "execution_count": 53,
     "metadata": {},
     "output_type": "execute_result"
    }
   ],
   "source": [
    "#check that the new Prices dataset is of a DataFrame type\n",
    "\n",
    "isinstance(Prices,pd.DataFrame)"
   ]
  },
  {
   "cell_type": "code",
   "execution_count": 54,
   "id": "17611556",
   "metadata": {},
   "outputs": [
    {
     "data": {
      "text/html": [
       "<div>\n",
       "<style scoped>\n",
       "    .dataframe tbody tr th:only-of-type {\n",
       "        vertical-align: middle;\n",
       "    }\n",
       "\n",
       "    .dataframe tbody tr th {\n",
       "        vertical-align: top;\n",
       "    }\n",
       "\n",
       "    .dataframe thead th {\n",
       "        text-align: right;\n",
       "    }\n",
       "</style>\n",
       "<table border=\"1\" class=\"dataframe\">\n",
       "  <thead>\n",
       "    <tr style=\"text-align: right;\">\n",
       "      <th></th>\n",
       "      <th>High</th>\n",
       "      <th>Low</th>\n",
       "      <th>Open</th>\n",
       "      <th>Close</th>\n",
       "      <th>Volume</th>\n",
       "      <th>Adj Close</th>\n",
       "    </tr>\n",
       "  </thead>\n",
       "  <tbody>\n",
       "    <tr>\n",
       "      <th>count</th>\n",
       "      <td>61.000000</td>\n",
       "      <td>61.000000</td>\n",
       "      <td>61.000000</td>\n",
       "      <td>61.000000</td>\n",
       "      <td>6.100000e+01</td>\n",
       "      <td>58.000000</td>\n",
       "    </tr>\n",
       "    <tr>\n",
       "      <th>mean</th>\n",
       "      <td>23594.063686</td>\n",
       "      <td>22332.692816</td>\n",
       "      <td>23076.506212</td>\n",
       "      <td>22938.154650</td>\n",
       "      <td>3.035281e+10</td>\n",
       "      <td>22924.591562</td>\n",
       "    </tr>\n",
       "    <tr>\n",
       "      <th>std</th>\n",
       "      <td>3743.076603</td>\n",
       "      <td>3677.299782</td>\n",
       "      <td>3805.146182</td>\n",
       "      <td>3633.064549</td>\n",
       "      <td>9.888942e+09</td>\n",
       "      <td>3551.673428</td>\n",
       "    </tr>\n",
       "    <tr>\n",
       "      <th>min</th>\n",
       "      <td>19371.748050</td>\n",
       "      <td>17708.623050</td>\n",
       "      <td>19010.902340</td>\n",
       "      <td>19017.642580</td>\n",
       "      <td>1.639082e+10</td>\n",
       "      <td>19242.255860</td>\n",
       "    </tr>\n",
       "    <tr>\n",
       "      <th>25%</th>\n",
       "      <td>20913.322270</td>\n",
       "      <td>19937.791020</td>\n",
       "      <td>20547.814450</td>\n",
       "      <td>20548.246090</td>\n",
       "      <td>2.415025e+10</td>\n",
       "      <td>20557.433590</td>\n",
       "    </tr>\n",
       "    <tr>\n",
       "      <th>50%</th>\n",
       "      <td>21877.138670</td>\n",
       "      <td>20781.912110</td>\n",
       "      <td>21496.494140</td>\n",
       "      <td>21502.337890</td>\n",
       "      <td>2.862467e+10</td>\n",
       "      <td>21547.272460</td>\n",
       "    </tr>\n",
       "    <tr>\n",
       "      <th>75%</th>\n",
       "      <td>24196.818360</td>\n",
       "      <td>23009.949220</td>\n",
       "      <td>23652.070310</td>\n",
       "      <td>23389.433590</td>\n",
       "      <td>3.363101e+10</td>\n",
       "      <td>23376.299312</td>\n",
       "    </tr>\n",
       "    <tr>\n",
       "      <th>max</th>\n",
       "      <td>31957.285160</td>\n",
       "      <td>30020.265630</td>\n",
       "      <td>31792.554690</td>\n",
       "      <td>31370.671880</td>\n",
       "      <td>6.820456e+10</td>\n",
       "      <td>31370.671880</td>\n",
       "    </tr>\n",
       "  </tbody>\n",
       "</table>\n",
       "</div>"
      ],
      "text/plain": [
       "               High           Low         Open          Close        Volume  \\\n",
       "count     61.000000     61.000000     61.000000     61.000000  6.100000e+01   \n",
       "mean   23594.063686  22332.692816  23076.506212  22938.154650  3.035281e+10   \n",
       "std     3743.076603   3677.299782   3805.146182   3633.064549  9.888942e+09   \n",
       "min    19371.748050  17708.623050  19010.902340  19017.642580  1.639082e+10   \n",
       "25%    20913.322270  19937.791020  20547.814450  20548.246090  2.415025e+10   \n",
       "50%    21877.138670  20781.912110  21496.494140  21502.337890  2.862467e+10   \n",
       "75%    24196.818360  23009.949220  23652.070310  23389.433590  3.363101e+10   \n",
       "max    31957.285160  30020.265630  31792.554690  31370.671880  6.820456e+10   \n",
       "\n",
       "          Adj Close  \n",
       "count     58.000000  \n",
       "mean   22924.591562  \n",
       "std     3551.673428  \n",
       "min    19242.255860  \n",
       "25%    20557.433590  \n",
       "50%    21547.272460  \n",
       "75%    23376.299312  \n",
       "max    31370.671880  "
      ]
     },
     "execution_count": 54,
     "metadata": {},
     "output_type": "execute_result"
    }
   ],
   "source": [
    "#look at the description and statistics of the data of all columns in the dataframe created\n",
    "\n",
    "Prices.describe()"
   ]
  },
  {
   "cell_type": "markdown",
   "id": "29083b23",
   "metadata": {},
   "source": [
    "# Check for any missing values (9, 17 and 18 June have NaN Adj Close)"
   ]
  },
  {
   "cell_type": "code",
   "execution_count": 55,
   "id": "81dce7b3",
   "metadata": {},
   "outputs": [
    {
     "name": "stdout",
     "output_type": "stream",
     "text": [
      "<class 'pandas.core.frame.DataFrame'>\n",
      "Int64Index: 61 entries, 0 to 30\n",
      "Data columns (total 7 columns):\n",
      " #   Column     Non-Null Count  Dtype  \n",
      "---  ------     --------------  -----  \n",
      " 0   Date       61 non-null     object \n",
      " 1   High       61 non-null     float64\n",
      " 2   Low        61 non-null     float64\n",
      " 3   Open       61 non-null     float64\n",
      " 4   Close      61 non-null     float64\n",
      " 5   Volume     61 non-null     int64  \n",
      " 6   Adj Close  58 non-null     float64\n",
      "dtypes: float64(5), int64(1), object(1)\n",
      "memory usage: 3.8+ KB\n"
     ]
    }
   ],
   "source": [
    "#look at the information for the columns in the Prices dataframe\n",
    "#see that there are 61 records, but only 58 records for the Adj Close column\n",
    "Prices.info()"
   ]
  },
  {
   "cell_type": "code",
   "execution_count": 56,
   "id": "71ab375b",
   "metadata": {},
   "outputs": [
    {
     "data": {
      "text/plain": [
       "Date         0\n",
       "High         0\n",
       "Low          0\n",
       "Open         0\n",
       "Close        0\n",
       "Volume       0\n",
       "Adj Close    3\n",
       "dtype: int64"
      ]
     },
     "execution_count": 56,
     "metadata": {},
     "output_type": "execute_result"
    }
   ],
   "source": [
    "#another way to check for missing data is as follows\n",
    "#you can see that there are 3 values missing in the Adj Close column\n",
    "\n",
    "Prices.isna().sum()"
   ]
  },
  {
   "cell_type": "markdown",
   "id": "5f1c598d",
   "metadata": {},
   "source": [
    "# Filling the blanks (NaN values) with the mean of the Adj Close column"
   ]
  },
  {
   "cell_type": "code",
   "execution_count": 57,
   "id": "553103b3",
   "metadata": {},
   "outputs": [],
   "source": [
    "#We can fill in the missing values by a variety of different methods\n",
    "#In this project I will fill those missing values with the mean of the Adj Close column\n",
    "\n",
    "Prices['Adj Close'] = Prices['Adj Close'].fillna(Prices['Adj Close'].mean())"
   ]
  },
  {
   "cell_type": "markdown",
   "id": "7d7b7430",
   "metadata": {},
   "source": [
    "# #Passing in a list of the 3 rows which had blanks"
   ]
  },
  {
   "cell_type": "code",
   "execution_count": 58,
   "id": "833436f9",
   "metadata": {},
   "outputs": [
    {
     "data": {
      "text/html": [
       "<div>\n",
       "<style scoped>\n",
       "    .dataframe tbody tr th:only-of-type {\n",
       "        vertical-align: middle;\n",
       "    }\n",
       "\n",
       "    .dataframe tbody tr th {\n",
       "        vertical-align: top;\n",
       "    }\n",
       "\n",
       "    .dataframe thead th {\n",
       "        text-align: right;\n",
       "    }\n",
       "</style>\n",
       "<table border=\"1\" class=\"dataframe\">\n",
       "  <thead>\n",
       "    <tr style=\"text-align: right;\">\n",
       "      <th></th>\n",
       "      <th>Date</th>\n",
       "      <th>High</th>\n",
       "      <th>Low</th>\n",
       "      <th>Open</th>\n",
       "      <th>Close</th>\n",
       "      <th>Volume</th>\n",
       "      <th>Adj Close</th>\n",
       "    </tr>\n",
       "  </thead>\n",
       "  <tbody>\n",
       "    <tr>\n",
       "      <th>8</th>\n",
       "      <td>09/06/2022</td>\n",
       "      <td>30609.31055</td>\n",
       "      <td>30020.26563</td>\n",
       "      <td>30215.27930</td>\n",
       "      <td>30111.99805</td>\n",
       "      <td>21692004719</td>\n",
       "      <td>22924.591562</td>\n",
       "    </tr>\n",
       "    <tr>\n",
       "      <th>16</th>\n",
       "      <td>17/06/2022</td>\n",
       "      <td>21243.31250</td>\n",
       "      <td>20326.51953</td>\n",
       "      <td>20385.71875</td>\n",
       "      <td>20471.48242</td>\n",
       "      <td>27132421514</td>\n",
       "      <td>22924.591562</td>\n",
       "    </tr>\n",
       "    <tr>\n",
       "      <th>17</th>\n",
       "      <td>18/06/2022</td>\n",
       "      <td>20736.04102</td>\n",
       "      <td>17708.62305</td>\n",
       "      <td>20473.42578</td>\n",
       "      <td>19017.64258</td>\n",
       "      <td>42009436760</td>\n",
       "      <td>22924.591562</td>\n",
       "    </tr>\n",
       "  </tbody>\n",
       "</table>\n",
       "</div>"
      ],
      "text/plain": [
       "          Date         High          Low        Open         Close  \\\n",
       "8   09/06/2022  30609.31055  30020.26563  30215.27930  30111.99805   \n",
       "16  17/06/2022  21243.31250  20326.51953  20385.71875  20471.48242   \n",
       "17  18/06/2022  20736.04102  17708.62305  20473.42578  19017.64258   \n",
       "\n",
       "         Volume     Adj Close  \n",
       "8   21692004719  22924.591562  \n",
       "16  27132421514  22924.591562  \n",
       "17  42009436760  22924.591562  "
      ]
     },
     "execution_count": 58,
     "metadata": {},
     "output_type": "execute_result"
    }
   ],
   "source": [
    "#check the rows that had missing values to see that they all have the mean populated for Adj Close on those dates\n",
    "#this value matches the mean shown in prices.describe above\n",
    "\n",
    "Prices.iloc[[8,16,17]]"
   ]
  },
  {
   "cell_type": "code",
   "execution_count": 59,
   "id": "ee58a1d8",
   "metadata": {},
   "outputs": [
    {
     "name": "stdout",
     "output_type": "stream",
     "text": [
      "          Date         High          Low        Open         Close  \\\n",
      "0   01/06/2022  31957.28516  29501.58789  31792.55469  29799.08008   \n",
      "1   02/06/2022  30604.73438  29652.70508  29794.89063  30467.48828   \n",
      "2   03/06/2022  30633.03516  29375.68945  30467.80664  29704.39063   \n",
      "3   04/06/2022  29930.56445  29500.00586  29706.13867  29832.91406   \n",
      "4   05/06/2022  30117.74414  29574.44922  29835.11719  29906.66211   \n",
      "..         ...          ...          ...          ...          ...   \n",
      "26  27/07/2022  22986.52930  21070.80664  21244.16992  22930.54883   \n",
      "27  28/07/2022  24110.47070  22722.26563  22933.64063  23843.88672   \n",
      "28  29/07/2022  24294.78711  23481.17383  23845.21289  23804.63281   \n",
      "29  30/07/2022  24572.58008  23580.50781  23796.81836  23656.20703   \n",
      "30  31/07/2022  24121.64258  23275.70313  23652.07031  23336.89648   \n",
      "\n",
      "         Volume    Adj Close  \n",
      "0   41135817341  29799.08008  \n",
      "1   29083562061  30467.48828  \n",
      "2   26175547452  29704.39063  \n",
      "3   16588370958  29832.91406  \n",
      "4   17264085441  29906.66211  \n",
      "..          ...          ...  \n",
      "26  31758955233  22930.54883  \n",
      "27  40212386158  23843.88672  \n",
      "28  35887249746  23804.63281  \n",
      "29  28148218301  23656.20703  \n",
      "30  23553591896  23336.89648  \n",
      "\n",
      "[61 rows x 7 columns]\n"
     ]
    }
   ],
   "source": [
    "#view the prices dataframe\n",
    "\n",
    "print(Prices)"
   ]
  },
  {
   "cell_type": "code",
   "execution_count": 60,
   "id": "33e5509d",
   "metadata": {},
   "outputs": [
    {
     "data": {
      "image/png": "[encoded data removed]",
      "text/plain": [
       "<Figure size 1008x432 with 1 Axes>"
      ]
     },
     "metadata": {
      "needs_background": "light"
     },
     "output_type": "display_data"
    }
   ],
   "source": [
    "#import matplotlib\n",
    "#plot a line graph of the Close prices of Bitcoin for June and July\n",
    "\n",
    "import matplotlib.pyplot as plt\n",
    "Prices.plot(x = 'Date', y = 'Close', kind = 'line', figsize = (14,6),legend=False, color = 'r', fontsize = 12)\n",
    "plt.xlabel('Date', fontsize = 14)\n",
    "plt.ylabel('Price', fontsize = 14)\n",
    "plt.title('Bitcoin Closing Prices', fontsize = 16)\n",
    "plt.show()"
   ]
  },
  {
   "cell_type": "code",
   "execution_count": 61,
   "id": "696a456c",
   "metadata": {},
   "outputs": [
    {
     "data": {
      "text/plain": [
       "<AxesSubplot:>"
      ]
     },
     "execution_count": 61,
     "metadata": {},
     "output_type": "execute_result"
    },
    {
     "data": {
      "image/png": "[encoded data removed]",
      "text/plain": [
       "<Figure size 1080x432 with 1 Axes>"
      ]
     },
     "metadata": {
      "needs_background": "light"
     },
     "output_type": "display_data"
    }
   ],
   "source": [
    "#import Seaborn\n",
    "#plot a boxplot chart of four of the Bitcoin prices\n",
    "\n",
    "import seaborn as sns\n",
    "\n",
    "Pricing_df = Prices.drop(['Volume','Adj Close'], axis=1)\n",
    "\n",
    "plt.figure(figsize=(15, 6))\n",
    "sns.boxplot(data=Pricing_df)"
   ]
  },
  {
   "cell_type": "markdown",
   "id": "6ef244d6",
   "metadata": {},
   "source": [
    "# Define a custom function to create resusable code"
   ]
  },
  {
   "cell_type": "code",
   "execution_count": 62,
   "id": "12a2532d",
   "metadata": {},
   "outputs": [],
   "source": [
    "#Create a function \n",
    "#Assign the function with inputs to a variable\n",
    "#Create a new column in the dataframe and assign the variable to it\n",
    "\n",
    "import numpy as np\n",
    "import pandas as pd\n",
    "\n",
    "def DayVar(a,b):\n",
    "    \"\"\"This function will calculate the variance between two kinds of price for a day.\n",
    "        Example: the difference between Low and High price each day.\n",
    "    \n",
    "    Args: \n",
    "        arg_1(float): The first kind of price you want to compare eg. Low Price.\n",
    "        arg_2(float): The second kind of price you want to compare to first price to eg. High Price.\n",
    "        \n",
    "    Returns:\n",
    "        Float: A value of the difference between the two Prices.\n",
    "        \n",
    "    Raises:\n",
    "        ValueError: None expected, unless there is a non-numeric value in one of the columns and no value can be calculated.\n",
    "        \n",
    "    Notes:\n",
    "        This is my first function :)\n",
    "        \"\"\"\n",
    "    return (b - a)\n",
    "\n",
    "d = DayVar(Prices['Low'],Prices['High'])\n",
    "Prices['PriceDiff'] = d"
   ]
  },
  {
   "cell_type": "code",
   "execution_count": 63,
   "id": "bb4c3a67",
   "metadata": {},
   "outputs": [],
   "source": [
    "#Create a function \n",
    "#Assign the function with its input to a variable\n",
    "#Create a new column in the dataframe and assign the variable to it\n",
    "\n",
    "def DayChg(c):\n",
    "    \"\"\"This function will calculate the daily change of a specified price.\n",
    "        Example: the change in the Closing price over the past day.\n",
    "    \n",
    "    Args: \n",
    "        arg_1(float): The price you want to see the daily % change for.\n",
    "        \n",
    "    Returns:\n",
    "        Float: A percentage value of the change in the assigned price over the past day.\n",
    "        \n",
    "    Raises:\n",
    "        ValueError: None expected, unless there is a non-numeric value in one of the columns and no value can be calculated.\n",
    "        \n",
    "    Notes:\n",
    "        This is my second function :)\n",
    "        \"\"\"\n",
    "    return (c.pct_change() * 100)\n",
    "\n",
    "d = DayChg(Prices['Close'])\n",
    "Prices['DayChg(%)'] = d"
   ]
  },
  {
   "cell_type": "code",
   "execution_count": 64,
   "id": "84f6b479",
   "metadata": {},
   "outputs": [
    {
     "data": {
      "text/html": [
       "<div>\n",
       "<style scoped>\n",
       "    .dataframe tbody tr th:only-of-type {\n",
       "        vertical-align: middle;\n",
       "    }\n",
       "\n",
       "    .dataframe tbody tr th {\n",
       "        vertical-align: top;\n",
       "    }\n",
       "\n",
       "    .dataframe thead th {\n",
       "        text-align: right;\n",
       "    }\n",
       "</style>\n",
       "<table border=\"1\" class=\"dataframe\">\n",
       "  <thead>\n",
       "    <tr style=\"text-align: right;\">\n",
       "      <th></th>\n",
       "      <th>Date</th>\n",
       "      <th>High</th>\n",
       "      <th>Low</th>\n",
       "      <th>Open</th>\n",
       "      <th>Close</th>\n",
       "      <th>Volume</th>\n",
       "      <th>Adj Close</th>\n",
       "      <th>PriceDiff</th>\n",
       "      <th>DayChg(%)</th>\n",
       "    </tr>\n",
       "  </thead>\n",
       "  <tbody>\n",
       "    <tr>\n",
       "      <th>0</th>\n",
       "      <td>01/06/2022</td>\n",
       "      <td>31957.28516</td>\n",
       "      <td>29501.58789</td>\n",
       "      <td>31792.55469</td>\n",
       "      <td>29799.08008</td>\n",
       "      <td>41135817341</td>\n",
       "      <td>29799.08008</td>\n",
       "      <td>2455.69727</td>\n",
       "      <td>NaN</td>\n",
       "    </tr>\n",
       "    <tr>\n",
       "      <th>1</th>\n",
       "      <td>02/06/2022</td>\n",
       "      <td>30604.73438</td>\n",
       "      <td>29652.70508</td>\n",
       "      <td>29794.89063</td>\n",
       "      <td>30467.48828</td>\n",
       "      <td>29083562061</td>\n",
       "      <td>30467.48828</td>\n",
       "      <td>952.02930</td>\n",
       "      <td>2.243050</td>\n",
       "    </tr>\n",
       "    <tr>\n",
       "      <th>2</th>\n",
       "      <td>03/06/2022</td>\n",
       "      <td>30633.03516</td>\n",
       "      <td>29375.68945</td>\n",
       "      <td>30467.80664</td>\n",
       "      <td>29704.39063</td>\n",
       "      <td>26175547452</td>\n",
       "      <td>29704.39063</td>\n",
       "      <td>1257.34571</td>\n",
       "      <td>-2.504629</td>\n",
       "    </tr>\n",
       "    <tr>\n",
       "      <th>3</th>\n",
       "      <td>04/06/2022</td>\n",
       "      <td>29930.56445</td>\n",
       "      <td>29500.00586</td>\n",
       "      <td>29706.13867</td>\n",
       "      <td>29832.91406</td>\n",
       "      <td>16588370958</td>\n",
       "      <td>29832.91406</td>\n",
       "      <td>430.55859</td>\n",
       "      <td>0.432675</td>\n",
       "    </tr>\n",
       "    <tr>\n",
       "      <th>4</th>\n",
       "      <td>05/06/2022</td>\n",
       "      <td>30117.74414</td>\n",
       "      <td>29574.44922</td>\n",
       "      <td>29835.11719</td>\n",
       "      <td>29906.66211</td>\n",
       "      <td>17264085441</td>\n",
       "      <td>29906.66211</td>\n",
       "      <td>543.29492</td>\n",
       "      <td>0.247204</td>\n",
       "    </tr>\n",
       "  </tbody>\n",
       "</table>\n",
       "</div>"
      ],
      "text/plain": [
       "         Date         High          Low        Open         Close  \\\n",
       "0  01/06/2022  31957.28516  29501.58789  31792.55469  29799.08008   \n",
       "1  02/06/2022  30604.73438  29652.70508  29794.89063  30467.48828   \n",
       "2  03/06/2022  30633.03516  29375.68945  30467.80664  29704.39063   \n",
       "3  04/06/2022  29930.56445  29500.00586  29706.13867  29832.91406   \n",
       "4  05/06/2022  30117.74414  29574.44922  29835.11719  29906.66211   \n",
       "\n",
       "        Volume    Adj Close   PriceDiff  DayChg(%)  \n",
       "0  41135817341  29799.08008  2455.69727        NaN  \n",
       "1  29083562061  30467.48828   952.02930   2.243050  \n",
       "2  26175547452  29704.39063  1257.34571  -2.504629  \n",
       "3  16588370958  29832.91406   430.55859   0.432675  \n",
       "4  17264085441  29906.66211   543.29492   0.247204  "
      ]
     },
     "execution_count": 64,
     "metadata": {},
     "output_type": "execute_result"
    }
   ],
   "source": [
    "#check the new functions in the new columns were created\n",
    "#Price Diff and DayChg(%) are the new columns\n",
    "\n",
    "Prices.head()"
   ]
  },
  {
   "cell_type": "code",
   "execution_count": 65,
   "id": "37ea9ae4",
   "metadata": {},
   "outputs": [],
   "source": [
    "#reuse the created function\n",
    "#assign it to a new variable\n",
    "#create a new column in the Prices dataframe and assign the variable to it\n",
    "\n",
    "e = DayChg(Prices['Volume'])\n",
    "Prices['VolDayChg(%)'] = e"
   ]
  },
  {
   "cell_type": "code",
   "execution_count": 66,
   "id": "c4edbfdd",
   "metadata": {},
   "outputs": [
    {
     "data": {
      "text/html": [
       "<div>\n",
       "<style scoped>\n",
       "    .dataframe tbody tr th:only-of-type {\n",
       "        vertical-align: middle;\n",
       "    }\n",
       "\n",
       "    .dataframe tbody tr th {\n",
       "        vertical-align: top;\n",
       "    }\n",
       "\n",
       "    .dataframe thead th {\n",
       "        text-align: right;\n",
       "    }\n",
       "</style>\n",
       "<table border=\"1\" class=\"dataframe\">\n",
       "  <thead>\n",
       "    <tr style=\"text-align: right;\">\n",
       "      <th></th>\n",
       "      <th>Date</th>\n",
       "      <th>High</th>\n",
       "      <th>Low</th>\n",
       "      <th>Open</th>\n",
       "      <th>Close</th>\n",
       "      <th>Volume</th>\n",
       "      <th>Adj Close</th>\n",
       "      <th>PriceDiff</th>\n",
       "      <th>DayChg(%)</th>\n",
       "      <th>VolDayChg(%)</th>\n",
       "    </tr>\n",
       "  </thead>\n",
       "  <tbody>\n",
       "    <tr>\n",
       "      <th>0</th>\n",
       "      <td>01/06/2022</td>\n",
       "      <td>31957.28516</td>\n",
       "      <td>29501.58789</td>\n",
       "      <td>31792.55469</td>\n",
       "      <td>29799.08008</td>\n",
       "      <td>41135817341</td>\n",
       "      <td>29799.08008</td>\n",
       "      <td>2455.69727</td>\n",
       "      <td>NaN</td>\n",
       "      <td>NaN</td>\n",
       "    </tr>\n",
       "    <tr>\n",
       "      <th>1</th>\n",
       "      <td>02/06/2022</td>\n",
       "      <td>30604.73438</td>\n",
       "      <td>29652.70508</td>\n",
       "      <td>29794.89063</td>\n",
       "      <td>30467.48828</td>\n",
       "      <td>29083562061</td>\n",
       "      <td>30467.48828</td>\n",
       "      <td>952.02930</td>\n",
       "      <td>2.243050</td>\n",
       "      <td>-29.298689</td>\n",
       "    </tr>\n",
       "    <tr>\n",
       "      <th>2</th>\n",
       "      <td>03/06/2022</td>\n",
       "      <td>30633.03516</td>\n",
       "      <td>29375.68945</td>\n",
       "      <td>30467.80664</td>\n",
       "      <td>29704.39063</td>\n",
       "      <td>26175547452</td>\n",
       "      <td>29704.39063</td>\n",
       "      <td>1257.34571</td>\n",
       "      <td>-2.504629</td>\n",
       "      <td>-9.998825</td>\n",
       "    </tr>\n",
       "    <tr>\n",
       "      <th>3</th>\n",
       "      <td>04/06/2022</td>\n",
       "      <td>29930.56445</td>\n",
       "      <td>29500.00586</td>\n",
       "      <td>29706.13867</td>\n",
       "      <td>29832.91406</td>\n",
       "      <td>16588370958</td>\n",
       "      <td>29832.91406</td>\n",
       "      <td>430.55859</td>\n",
       "      <td>0.432675</td>\n",
       "      <td>-36.626460</td>\n",
       "    </tr>\n",
       "    <tr>\n",
       "      <th>4</th>\n",
       "      <td>05/06/2022</td>\n",
       "      <td>30117.74414</td>\n",
       "      <td>29574.44922</td>\n",
       "      <td>29835.11719</td>\n",
       "      <td>29906.66211</td>\n",
       "      <td>17264085441</td>\n",
       "      <td>29906.66211</td>\n",
       "      <td>543.29492</td>\n",
       "      <td>0.247204</td>\n",
       "      <td>4.073423</td>\n",
       "    </tr>\n",
       "  </tbody>\n",
       "</table>\n",
       "</div>"
      ],
      "text/plain": [
       "         Date         High          Low        Open         Close  \\\n",
       "0  01/06/2022  31957.28516  29501.58789  31792.55469  29799.08008   \n",
       "1  02/06/2022  30604.73438  29652.70508  29794.89063  30467.48828   \n",
       "2  03/06/2022  30633.03516  29375.68945  30467.80664  29704.39063   \n",
       "3  04/06/2022  29930.56445  29500.00586  29706.13867  29832.91406   \n",
       "4  05/06/2022  30117.74414  29574.44922  29835.11719  29906.66211   \n",
       "\n",
       "        Volume    Adj Close   PriceDiff  DayChg(%)  VolDayChg(%)  \n",
       "0  41135817341  29799.08008  2455.69727        NaN           NaN  \n",
       "1  29083562061  30467.48828   952.02930   2.243050    -29.298689  \n",
       "2  26175547452  29704.39063  1257.34571  -2.504629     -9.998825  \n",
       "3  16588370958  29832.91406   430.55859   0.432675    -36.626460  \n",
       "4  17264085441  29906.66211   543.29492   0.247204      4.073423  "
      ]
     },
     "execution_count": 66,
     "metadata": {},
     "output_type": "execute_result"
    }
   ],
   "source": [
    "#Check the datafram again to see that the new column was added\n",
    "#VolDayChg(%) is the new column\n",
    "\n",
    "Prices.head()"
   ]
  },
  {
   "cell_type": "code",
   "execution_count": 67,
   "id": "cfe196e8",
   "metadata": {},
   "outputs": [
    {
     "data": {
      "image/png": "[encoded data removed]",
      "text/plain": [
       "<Figure size 1008x432 with 1 Axes>"
      ]
     },
     "metadata": {
      "needs_background": "light"
     },
     "output_type": "display_data"
    }
   ],
   "source": [
    "#plot the daily change in the closing prices using the newly created column in the Prices dataframe\n",
    "\n",
    "Prices.plot(x = 'Date', y = 'DayChg(%)', kind = 'line', figsize = (14,6),legend=False, color = 'r', fontsize = 12)\n",
    "plt.xlabel('Date', fontsize = 14)\n",
    "plt.ylabel('Price', fontsize = 14)\n",
    "plt.title('Daily change in Closing Prices', fontsize = 16)\n",
    "plt.show()"
   ]
  },
  {
   "cell_type": "markdown",
   "id": "8fbc915d",
   "metadata": {},
   "source": [
    "# Drop duplicates"
   ]
  },
  {
   "cell_type": "code",
   "execution_count": 68,
   "id": "2592be4d",
   "metadata": {},
   "outputs": [
    {
     "data": {
      "text/plain": [
       "(34, 7)"
      ]
     },
     "execution_count": 68,
     "metadata": {},
     "output_type": "execute_result"
    }
   ],
   "source": [
    "#already imported pandas above\n",
    "#import a csv file with Bitcoin prices for June 2022 with 4 days duplicated\n",
    "#the shape output shows 34 rows which should only be 30 (30 days in June)\n",
    "\n",
    "import pandas as pd\n",
    "df3 = pd.read_csv('Duplicates June BTC.csv')\n",
    "df3.shape"
   ]
  },
  {
   "cell_type": "code",
   "execution_count": 69,
   "id": "df689ae1",
   "metadata": {},
   "outputs": [
    {
     "name": "stdout",
     "output_type": "stream",
     "text": [
      "          Date         High          Low        Open         Close  \\\n",
      "30  27/06/2022  21478.08984  20620.19922  21028.23828  20735.47852   \n",
      "31  28/06/2022  21164.42383  20228.81250  20731.54492  20280.63477   \n",
      "32  29/06/2022  20364.15625  19937.79102  20281.16992  20104.02344   \n",
      "33  30/06/2022  20141.16016  18729.65625  20108.31250  19784.72656   \n",
      "\n",
      "         Volume    Adj Close  \n",
      "30  20965695707  20735.47852  \n",
      "31  21381535161  20280.63477  \n",
      "32  23552740328  20104.02344  \n",
      "33  26267239923  19784.72656  \n"
     ]
    }
   ],
   "source": [
    "#find the duplicate rows in the dataframe\n",
    "#view theh duplicate rows\n",
    "\n",
    "duplicaterows = df3[df3.duplicated()]\n",
    "print(duplicaterows)"
   ]
  },
  {
   "cell_type": "code",
   "execution_count": 70,
   "id": "504846b3",
   "metadata": {},
   "outputs": [
    {
     "data": {
      "text/html": [
       "<div>\n",
       "<style scoped>\n",
       "    .dataframe tbody tr th:only-of-type {\n",
       "        vertical-align: middle;\n",
       "    }\n",
       "\n",
       "    .dataframe tbody tr th {\n",
       "        vertical-align: top;\n",
       "    }\n",
       "\n",
       "    .dataframe thead th {\n",
       "        text-align: right;\n",
       "    }\n",
       "</style>\n",
       "<table border=\"1\" class=\"dataframe\">\n",
       "  <thead>\n",
       "    <tr style=\"text-align: right;\">\n",
       "      <th></th>\n",
       "      <th>Date</th>\n",
       "      <th>High</th>\n",
       "      <th>Low</th>\n",
       "      <th>Open</th>\n",
       "      <th>Close</th>\n",
       "      <th>Volume</th>\n",
       "      <th>Adj Close</th>\n",
       "    </tr>\n",
       "  </thead>\n",
       "  <tbody>\n",
       "    <tr>\n",
       "      <th>0</th>\n",
       "      <td>01/06/2022</td>\n",
       "      <td>31957.28516</td>\n",
       "      <td>29501.58789</td>\n",
       "      <td>31792.55469</td>\n",
       "      <td>29799.08008</td>\n",
       "      <td>41135817341</td>\n",
       "      <td>29799.08008</td>\n",
       "    </tr>\n",
       "    <tr>\n",
       "      <th>1</th>\n",
       "      <td>02/06/2022</td>\n",
       "      <td>30604.73438</td>\n",
       "      <td>29652.70508</td>\n",
       "      <td>29794.89063</td>\n",
       "      <td>30467.48828</td>\n",
       "      <td>29083562061</td>\n",
       "      <td>30467.48828</td>\n",
       "    </tr>\n",
       "    <tr>\n",
       "      <th>2</th>\n",
       "      <td>03/06/2022</td>\n",
       "      <td>30633.03516</td>\n",
       "      <td>29375.68945</td>\n",
       "      <td>30467.80664</td>\n",
       "      <td>29704.39063</td>\n",
       "      <td>26175547452</td>\n",
       "      <td>29704.39063</td>\n",
       "    </tr>\n",
       "    <tr>\n",
       "      <th>3</th>\n",
       "      <td>04/06/2022</td>\n",
       "      <td>29930.56445</td>\n",
       "      <td>29500.00586</td>\n",
       "      <td>29706.13867</td>\n",
       "      <td>29832.91406</td>\n",
       "      <td>16588370958</td>\n",
       "      <td>29832.91406</td>\n",
       "    </tr>\n",
       "    <tr>\n",
       "      <th>4</th>\n",
       "      <td>05/06/2022</td>\n",
       "      <td>30117.74414</td>\n",
       "      <td>29574.44922</td>\n",
       "      <td>29835.11719</td>\n",
       "      <td>29906.66211</td>\n",
       "      <td>17264085441</td>\n",
       "      <td>29906.66211</td>\n",
       "    </tr>\n",
       "    <tr>\n",
       "      <th>5</th>\n",
       "      <td>06/06/2022</td>\n",
       "      <td>31693.29102</td>\n",
       "      <td>29894.18750</td>\n",
       "      <td>29910.28320</td>\n",
       "      <td>31370.67188</td>\n",
       "      <td>31947336829</td>\n",
       "      <td>31370.67188</td>\n",
       "    </tr>\n",
       "    <tr>\n",
       "      <th>6</th>\n",
       "      <td>07/06/2022</td>\n",
       "      <td>31489.68359</td>\n",
       "      <td>29311.68359</td>\n",
       "      <td>31371.74219</td>\n",
       "      <td>31155.47852</td>\n",
       "      <td>40770974039</td>\n",
       "      <td>31155.47852</td>\n",
       "    </tr>\n",
       "    <tr>\n",
       "      <th>7</th>\n",
       "      <td>08/06/2022</td>\n",
       "      <td>31253.69141</td>\n",
       "      <td>29944.40430</td>\n",
       "      <td>31151.48047</td>\n",
       "      <td>30214.35547</td>\n",
       "      <td>30242059107</td>\n",
       "      <td>30214.35547</td>\n",
       "    </tr>\n",
       "    <tr>\n",
       "      <th>8</th>\n",
       "      <td>09/06/2022</td>\n",
       "      <td>30609.31055</td>\n",
       "      <td>30020.26563</td>\n",
       "      <td>30215.27930</td>\n",
       "      <td>30111.99805</td>\n",
       "      <td>21692004719</td>\n",
       "      <td>NaN</td>\n",
       "    </tr>\n",
       "    <tr>\n",
       "      <th>9</th>\n",
       "      <td>10/06/2022</td>\n",
       "      <td>30245.80859</td>\n",
       "      <td>28978.14648</td>\n",
       "      <td>30110.33008</td>\n",
       "      <td>29083.80469</td>\n",
       "      <td>29867476527</td>\n",
       "      <td>29083.80469</td>\n",
       "    </tr>\n",
       "    <tr>\n",
       "      <th>10</th>\n",
       "      <td>11/06/2022</td>\n",
       "      <td>29401.91602</td>\n",
       "      <td>28236.21289</td>\n",
       "      <td>29084.66602</td>\n",
       "      <td>28360.81055</td>\n",
       "      <td>27246574439</td>\n",
       "      <td>28360.81055</td>\n",
       "    </tr>\n",
       "    <tr>\n",
       "      <th>11</th>\n",
       "      <td>12/06/2022</td>\n",
       "      <td>28502.68555</td>\n",
       "      <td>26762.64844</td>\n",
       "      <td>28373.51367</td>\n",
       "      <td>26762.64844</td>\n",
       "      <td>34163220274</td>\n",
       "      <td>26762.64844</td>\n",
       "    </tr>\n",
       "    <tr>\n",
       "      <th>12</th>\n",
       "      <td>13/06/2022</td>\n",
       "      <td>26795.58984</td>\n",
       "      <td>22141.25781</td>\n",
       "      <td>26737.57813</td>\n",
       "      <td>22487.38867</td>\n",
       "      <td>68204556440</td>\n",
       "      <td>22487.38867</td>\n",
       "    </tr>\n",
       "    <tr>\n",
       "      <th>13</th>\n",
       "      <td>14/06/2022</td>\n",
       "      <td>23018.95117</td>\n",
       "      <td>20950.81836</td>\n",
       "      <td>22487.98633</td>\n",
       "      <td>22206.79297</td>\n",
       "      <td>50913575242</td>\n",
       "      <td>22206.79297</td>\n",
       "    </tr>\n",
       "    <tr>\n",
       "      <th>14</th>\n",
       "      <td>15/06/2022</td>\n",
       "      <td>22642.67188</td>\n",
       "      <td>20178.37695</td>\n",
       "      <td>22196.73047</td>\n",
       "      <td>22572.83984</td>\n",
       "      <td>54912007015</td>\n",
       "      <td>22572.83984</td>\n",
       "    </tr>\n",
       "    <tr>\n",
       "      <th>15</th>\n",
       "      <td>16/06/2022</td>\n",
       "      <td>22868.92188</td>\n",
       "      <td>20265.22656</td>\n",
       "      <td>22576.30469</td>\n",
       "      <td>20381.65039</td>\n",
       "      <td>31183975654</td>\n",
       "      <td>20381.65039</td>\n",
       "    </tr>\n",
       "    <tr>\n",
       "      <th>16</th>\n",
       "      <td>17/06/2022</td>\n",
       "      <td>21243.31250</td>\n",
       "      <td>20326.51953</td>\n",
       "      <td>20385.71875</td>\n",
       "      <td>20471.48242</td>\n",
       "      <td>27132421514</td>\n",
       "      <td>NaN</td>\n",
       "    </tr>\n",
       "    <tr>\n",
       "      <th>17</th>\n",
       "      <td>18/06/2022</td>\n",
       "      <td>20736.04102</td>\n",
       "      <td>17708.62305</td>\n",
       "      <td>20473.42578</td>\n",
       "      <td>19017.64258</td>\n",
       "      <td>42009436760</td>\n",
       "      <td>NaN</td>\n",
       "    </tr>\n",
       "    <tr>\n",
       "      <th>18</th>\n",
       "      <td>19/06/2022</td>\n",
       "      <td>20683.82227</td>\n",
       "      <td>18067.15234</td>\n",
       "      <td>19010.90234</td>\n",
       "      <td>20553.27148</td>\n",
       "      <td>35329942625</td>\n",
       "      <td>20553.27148</td>\n",
       "    </tr>\n",
       "    <tr>\n",
       "      <th>19</th>\n",
       "      <td>20/06/2022</td>\n",
       "      <td>20913.32227</td>\n",
       "      <td>19689.16992</td>\n",
       "      <td>20553.37109</td>\n",
       "      <td>20599.53711</td>\n",
       "      <td>30818458597</td>\n",
       "      <td>20599.53711</td>\n",
       "    </tr>\n",
       "    <tr>\n",
       "      <th>20</th>\n",
       "      <td>21/06/2022</td>\n",
       "      <td>21620.62891</td>\n",
       "      <td>20415.06250</td>\n",
       "      <td>20594.29492</td>\n",
       "      <td>20710.59766</td>\n",
       "      <td>28970212744</td>\n",
       "      <td>20710.59766</td>\n",
       "    </tr>\n",
       "    <tr>\n",
       "      <th>21</th>\n",
       "      <td>22/06/2022</td>\n",
       "      <td>20835.75000</td>\n",
       "      <td>19848.07813</td>\n",
       "      <td>20719.41406</td>\n",
       "      <td>19987.02930</td>\n",
       "      <td>28574793478</td>\n",
       "      <td>19987.02930</td>\n",
       "    </tr>\n",
       "    <tr>\n",
       "      <th>22</th>\n",
       "      <td>23/06/2022</td>\n",
       "      <td>21135.76172</td>\n",
       "      <td>19950.11719</td>\n",
       "      <td>19986.60742</td>\n",
       "      <td>21085.87695</td>\n",
       "      <td>26188097173</td>\n",
       "      <td>21085.87695</td>\n",
       "    </tr>\n",
       "    <tr>\n",
       "      <th>23</th>\n",
       "      <td>24/06/2022</td>\n",
       "      <td>21472.91797</td>\n",
       "      <td>20777.51172</td>\n",
       "      <td>21084.64844</td>\n",
       "      <td>21231.65625</td>\n",
       "      <td>24957784918</td>\n",
       "      <td>21231.65625</td>\n",
       "    </tr>\n",
       "    <tr>\n",
       "      <th>24</th>\n",
       "      <td>25/06/2022</td>\n",
       "      <td>21520.91406</td>\n",
       "      <td>20964.58594</td>\n",
       "      <td>21233.60938</td>\n",
       "      <td>21502.33789</td>\n",
       "      <td>18372538715</td>\n",
       "      <td>21502.33789</td>\n",
       "    </tr>\n",
       "    <tr>\n",
       "      <th>25</th>\n",
       "      <td>26/06/2022</td>\n",
       "      <td>21783.72461</td>\n",
       "      <td>21016.26953</td>\n",
       "      <td>21496.49414</td>\n",
       "      <td>21027.29492</td>\n",
       "      <td>18027170497</td>\n",
       "      <td>21027.29492</td>\n",
       "    </tr>\n",
       "    <tr>\n",
       "      <th>30</th>\n",
       "      <td>27/06/2022</td>\n",
       "      <td>21478.08984</td>\n",
       "      <td>20620.19922</td>\n",
       "      <td>21028.23828</td>\n",
       "      <td>20735.47852</td>\n",
       "      <td>20965695707</td>\n",
       "      <td>20735.47852</td>\n",
       "    </tr>\n",
       "    <tr>\n",
       "      <th>31</th>\n",
       "      <td>28/06/2022</td>\n",
       "      <td>21164.42383</td>\n",
       "      <td>20228.81250</td>\n",
       "      <td>20731.54492</td>\n",
       "      <td>20280.63477</td>\n",
       "      <td>21381535161</td>\n",
       "      <td>20280.63477</td>\n",
       "    </tr>\n",
       "    <tr>\n",
       "      <th>32</th>\n",
       "      <td>29/06/2022</td>\n",
       "      <td>20364.15625</td>\n",
       "      <td>19937.79102</td>\n",
       "      <td>20281.16992</td>\n",
       "      <td>20104.02344</td>\n",
       "      <td>23552740328</td>\n",
       "      <td>20104.02344</td>\n",
       "    </tr>\n",
       "    <tr>\n",
       "      <th>33</th>\n",
       "      <td>30/06/2022</td>\n",
       "      <td>20141.16016</td>\n",
       "      <td>18729.65625</td>\n",
       "      <td>20108.31250</td>\n",
       "      <td>19784.72656</td>\n",
       "      <td>26267239923</td>\n",
       "      <td>19784.72656</td>\n",
       "    </tr>\n",
       "  </tbody>\n",
       "</table>\n",
       "</div>"
      ],
      "text/plain": [
       "          Date         High          Low        Open         Close  \\\n",
       "0   01/06/2022  31957.28516  29501.58789  31792.55469  29799.08008   \n",
       "1   02/06/2022  30604.73438  29652.70508  29794.89063  30467.48828   \n",
       "2   03/06/2022  30633.03516  29375.68945  30467.80664  29704.39063   \n",
       "3   04/06/2022  29930.56445  29500.00586  29706.13867  29832.91406   \n",
       "4   05/06/2022  30117.74414  29574.44922  29835.11719  29906.66211   \n",
       "5   06/06/2022  31693.29102  29894.18750  29910.28320  31370.67188   \n",
       "6   07/06/2022  31489.68359  29311.68359  31371.74219  31155.47852   \n",
       "7   08/06/2022  31253.69141  29944.40430  31151.48047  30214.35547   \n",
       "8   09/06/2022  30609.31055  30020.26563  30215.27930  30111.99805   \n",
       "9   10/06/2022  30245.80859  28978.14648  30110.33008  29083.80469   \n",
       "10  11/06/2022  29401.91602  28236.21289  29084.66602  28360.81055   \n",
       "11  12/06/2022  28502.68555  26762.64844  28373.51367  26762.64844   \n",
       "12  13/06/2022  26795.58984  22141.25781  26737.57813  22487.38867   \n",
       "13  14/06/2022  23018.95117  20950.81836  22487.98633  22206.79297   \n",
       "14  15/06/2022  22642.67188  20178.37695  22196.73047  22572.83984   \n",
       "15  16/06/2022  22868.92188  20265.22656  22576.30469  20381.65039   \n",
       "16  17/06/2022  21243.31250  20326.51953  20385.71875  20471.48242   \n",
       "17  18/06/2022  20736.04102  17708.62305  20473.42578  19017.64258   \n",
       "18  19/06/2022  20683.82227  18067.15234  19010.90234  20553.27148   \n",
       "19  20/06/2022  20913.32227  19689.16992  20553.37109  20599.53711   \n",
       "20  21/06/2022  21620.62891  20415.06250  20594.29492  20710.59766   \n",
       "21  22/06/2022  20835.75000  19848.07813  20719.41406  19987.02930   \n",
       "22  23/06/2022  21135.76172  19950.11719  19986.60742  21085.87695   \n",
       "23  24/06/2022  21472.91797  20777.51172  21084.64844  21231.65625   \n",
       "24  25/06/2022  21520.91406  20964.58594  21233.60938  21502.33789   \n",
       "25  26/06/2022  21783.72461  21016.26953  21496.49414  21027.29492   \n",
       "30  27/06/2022  21478.08984  20620.19922  21028.23828  20735.47852   \n",
       "31  28/06/2022  21164.42383  20228.81250  20731.54492  20280.63477   \n",
       "32  29/06/2022  20364.15625  19937.79102  20281.16992  20104.02344   \n",
       "33  30/06/2022  20141.16016  18729.65625  20108.31250  19784.72656   \n",
       "\n",
       "         Volume    Adj Close  \n",
       "0   41135817341  29799.08008  \n",
       "1   29083562061  30467.48828  \n",
       "2   26175547452  29704.39063  \n",
       "3   16588370958  29832.91406  \n",
       "4   17264085441  29906.66211  \n",
       "5   31947336829  31370.67188  \n",
       "6   40770974039  31155.47852  \n",
       "7   30242059107  30214.35547  \n",
       "8   21692004719          NaN  \n",
       "9   29867476527  29083.80469  \n",
       "10  27246574439  28360.81055  \n",
       "11  34163220274  26762.64844  \n",
       "12  68204556440  22487.38867  \n",
       "13  50913575242  22206.79297  \n",
       "14  54912007015  22572.83984  \n",
       "15  31183975654  20381.65039  \n",
       "16  27132421514          NaN  \n",
       "17  42009436760          NaN  \n",
       "18  35329942625  20553.27148  \n",
       "19  30818458597  20599.53711  \n",
       "20  28970212744  20710.59766  \n",
       "21  28574793478  19987.02930  \n",
       "22  26188097173  21085.87695  \n",
       "23  24957784918  21231.65625  \n",
       "24  18372538715  21502.33789  \n",
       "25  18027170497  21027.29492  \n",
       "30  20965695707  20735.47852  \n",
       "31  21381535161  20280.63477  \n",
       "32  23552740328  20104.02344  \n",
       "33  26267239923  19784.72656  "
      ]
     },
     "execution_count": 70,
     "metadata": {},
     "output_type": "execute_result"
    }
   ],
   "source": [
    "#drop the duplicate rows and keep the last duplicate\n",
    "#see that index rows 26,27,28,29 were removed from the dataframe\n",
    "#NaN values were populated above - see section: Filling the blanks (NaN values) with the mean of the Adj Close column\n",
    "\n",
    "df3.drop_duplicates(keep='last')"
   ]
  },
  {
   "cell_type": "markdown",
   "id": "1b125d38",
   "metadata": {},
   "source": [
    "# Examples of lists and dictionaries and iterators"
   ]
  },
  {
   "cell_type": "code",
   "execution_count": 71,
   "id": "a0e10bf0",
   "metadata": {},
   "outputs": [
    {
     "name": "stdout",
     "output_type": "stream",
     "text": [
      "[10, 11, 12, 13, 14]\n"
     ]
    }
   ],
   "source": [
    "#create a list\n",
    "\n",
    "mylist = [10, 11, 12, 13, 14]\n",
    "print(mylist)"
   ]
  },
  {
   "cell_type": "code",
   "execution_count": 72,
   "id": "50d9fa07",
   "metadata": {},
   "outputs": [
    {
     "name": "stdout",
     "output_type": "stream",
     "text": [
      "<class 'list'>\n"
     ]
    }
   ],
   "source": [
    "print(type(mylist))"
   ]
  },
  {
   "cell_type": "code",
   "execution_count": 73,
   "id": "b3f229c1",
   "metadata": {},
   "outputs": [
    {
     "name": "stdout",
     "output_type": "stream",
     "text": [
      "[10, 11]\n"
     ]
    }
   ],
   "source": [
    "#get first 2 values from the list\n",
    "\n",
    "print(mylist[0:2])"
   ]
  },
  {
   "cell_type": "code",
   "execution_count": 74,
   "id": "a91dbf16",
   "metadata": {},
   "outputs": [
    {
     "name": "stdout",
     "output_type": "stream",
     "text": [
      "[10, 11, 12, 13, 14, 15]\n"
     ]
    }
   ],
   "source": [
    "#add a value into my list\n",
    "\n",
    "mylist.append(15)\n",
    "print(mylist)"
   ]
  },
  {
   "cell_type": "code",
   "execution_count": 75,
   "id": "6cd77cc6",
   "metadata": {},
   "outputs": [
    {
     "name": "stdout",
     "output_type": "stream",
     "text": [
      "[11, 12, 13, 14, 15]\n"
     ]
    }
   ],
   "source": [
    "#remove a value from my list\n",
    "\n",
    "mylist.remove(10)\n",
    "print(mylist)"
   ]
  },
  {
   "cell_type": "code",
   "execution_count": 76,
   "id": "409130ac",
   "metadata": {},
   "outputs": [
    {
     "name": "stdout",
     "output_type": "stream",
     "text": [
      "[1, 2, 3, 4, 5, 6, 7, 8, 9, 10]\n"
     ]
    }
   ],
   "source": [
    "#create a list of values using iterator\n",
    "#values in the list should be from 1 to 10\n",
    "\n",
    "new_list = []\n",
    "for x in range(1,11):\n",
    "    new_list.append(x)\n",
    "\n",
    "print(new_list)"
   ]
  },
  {
   "cell_type": "code",
   "execution_count": 77,
   "id": "ff62e386",
   "metadata": {},
   "outputs": [
    {
     "name": "stdout",
     "output_type": "stream",
     "text": [
      "mylist:[('High', 20141.16), ('Low', 18729.66), ('Open', 20108.31), ('Close', 19784.73)]\n"
     ]
    }
   ],
   "source": [
    "#create a dictionary called PriceTypes with 4 keys(type of price label) and values(prices)\n",
    "#separate the key and value into a list\n",
    "\n",
    "PriceTypes = {'High':20141.16, 'Low':18729.66,'Open':20108.31,'Close':19784.73}\n",
    "\n",
    "mylist = [(k,v) for k,v in PriceTypes.items()]\n",
    "print(f\"mylist:{mylist}\")"
   ]
  },
  {
   "cell_type": "code",
   "execution_count": 78,
   "id": "0228afd0",
   "metadata": {},
   "outputs": [
    {
     "name": "stdout",
     "output_type": "stream",
     "text": [
      "[29799.08008, 30467.48828, 29704.39063, 29832.91406, 29906.66211, 31370.67188, 31155.47852, 30214.35547, 30111.99805, 29083.80469, 28360.81055, 26762.64844, 22487.38867, 22206.79297, 22572.83984, 20381.65039, 20471.48242, 19017.64258, 20553.27148, 20599.53711, 20710.59766, 19987.0293, 21085.87695, 21231.65625, 21502.33789, 21027.29492, 20735.47852, 20280.63477, 20104.02344, 19784.72656, 19269.36719, 19242.25586, 19297.07617, 20231.26172, 20190.11523, 20548.24609, 21637.58789, 21731.11719, 21592.20703, 20860.44922, 19970.55664, 19323.91406, 20212.07422, 20569.91992, 20836.32813, 21190.31641, 20779.34375, 22485.68945, 23389.43359, 23231.73242, 23164.62891, 22714.97852, 22465.47852, 22609.16406, 21361.70117, 21239.75391, 22930.54883, 23843.88672, 23804.63281, 23656.20703, 23336.89648]\n"
     ]
    }
   ],
   "source": [
    "#create a list of all the values in the Close column of the Prices dataframe, appending each to the list\n",
    "\n",
    "my_val = Prices['Close']\n",
    "listvalues = []\n",
    "for item in my_val:\n",
    "    listvalues.append(float(item))\n",
    "print(listvalues)"
   ]
  },
  {
   "cell_type": "code",
   "execution_count": 79,
   "id": "9563c404",
   "metadata": {},
   "outputs": [
    {
     "name": "stdout",
     "output_type": "stream",
     "text": [
      "{'name': 'Beth', 'surname': 'Cartledge', 'location': 'London'}\n"
     ]
    }
   ],
   "source": [
    "#create a dictionary\n",
    "\n",
    "my_data = dict({'name':'Beth','surname': 'Cartledge', 'location':'London'})\n",
    "print(my_data)"
   ]
  },
  {
   "cell_type": "code",
   "execution_count": 80,
   "id": "212f4018",
   "metadata": {},
   "outputs": [
    {
     "name": "stdout",
     "output_type": "stream",
     "text": [
      "<class 'dict'>\n"
     ]
    }
   ],
   "source": [
    "#print the type to check it is a dictionary\n",
    "\n",
    "print(type(my_data))"
   ]
  },
  {
   "cell_type": "code",
   "execution_count": 81,
   "id": "8f3275d1",
   "metadata": {},
   "outputs": [
    {
     "name": "stdout",
     "output_type": "stream",
     "text": [
      "{'name': 'Beth', 'surname': 'Cartledge', 'location': 'London', 'height': 1.78}\n"
     ]
    }
   ],
   "source": [
    "#add a key and value to the dictionary\n",
    "\n",
    "my_data['height'] = 1.78\n",
    "print(my_data)"
   ]
  },
  {
   "cell_type": "code",
   "execution_count": 82,
   "id": "2b1b62d4",
   "metadata": {},
   "outputs": [
    {
     "name": "stdout",
     "output_type": "stream",
     "text": [
      "{'name': 'Beth', 'location': 'London', 'height': 1.78}\n"
     ]
    }
   ],
   "source": [
    "#remove a key and value from the dictionary\n",
    "\n",
    "del my_data['surname']\n",
    "print(my_data)"
   ]
  },
  {
   "cell_type": "code",
   "execution_count": 83,
   "id": "e17fe419",
   "metadata": {},
   "outputs": [
    {
     "name": "stdout",
     "output_type": "stream",
     "text": [
      "London\n"
     ]
    }
   ],
   "source": [
    "#get the value for a key in the dictionary\n",
    "\n",
    "print(my_data['location'])"
   ]
  },
  {
   "cell_type": "code",
   "execution_count": 84,
   "id": "55c38445",
   "metadata": {},
   "outputs": [
    {
     "name": "stdout",
     "output_type": "stream",
     "text": [
      "{'Date': {0: '01/07/2022', 1: '02/07/2022', 2: '03/07/2022', 3: '04/07/2022', 4: '05/07/2022', 5: '06/07/2022', 6: '07/07/2022', 7: '08/07/2022', 8: '09/07/2022', 9: '10/07/2022', 10: '11/07/2022', 11: '12/07/2022', 12: '13/07/2022', 13: '14/07/2022', 14: '15/07/2022', 15: '16/07/2022', 16: '17/07/2022', 17: '18/07/2022', 18: '19/07/2022', 19: '20/07/2022', 20: '21/07/2022', 21: '22/07/2022', 22: '23/07/2022', 23: '24/07/2022', 24: '25/07/2022', 25: '26/07/2022', 26: '27/07/2022', 27: '28/07/2022', 28: '29/07/2022', 29: '30/07/2022', 30: '31/07/2022'}, 'High': {0: 20632.67188, 1: 19371.74805, 2: 19558.26953, 3: 20258.74805, 4: 20635.4668, 5: 20595.5293, 6: 21771.81641, 7: 22314.94141, 8: 21877.13867, 9: 21591.08008, 10: 20856.35352, 11: 20043.44531, 12: 20223.05273, 13: 20789.89453, 14: 21138.24414, 15: 21514.4043, 16: 21600.64063, 17: 22633.0332, 18: 23666.96289, 19: 24196.81836, 20: 23388.32227, 21: 23671.92773, 22: 22977.21094, 23: 22974.00195, 24: 22649.12109, 25: 21361.12109, 26: 22986.5293, 27: 24110.4707, 28: 24294.78711, 29: 24572.58008, 30: 24121.64258}, 'Low': {0: 19073.70898, 1: 19027.08203, 2: 18966.95117, 3: 19063.06641, 4: 19341.23242, 5: 19823.51172, 6: 20296.10352, 7: 21257.45313, 8: 21445.95703, 9: 20727.12305, 10: 19924.53906, 11: 19308.53125, 12: 18999.95313, 13: 19689.25781, 14: 20397.0, 15: 20518.89844, 16: 20778.17969, 17: 20781.91211, 18: 21683.40625, 19: 23009.94922, 20: 22431.14844, 21: 22603.41602, 22: 22002.91016, 23: 22306.83984, 24: 21361.64258, 25: 20776.81641, 26: 21070.80664, 27: 22722.26563, 28: 23481.17383, 29: 23580.50781, 30: 23275.70313}, 'Open ': {0: 19820.4707, 1: 19274.83594, 2: 19242.0957, 3: 19297.31445, 4: 20225.35352, 5: 20194.61914, 6: 20547.81445, 7: 21637.1543, 8: 21716.82813, 9: 21591.08008, 10: 20856.35352, 11: 19970.47461, 12: 19325.97266, 13: 20211.4668, 14: 20573.15625, 15: 20834.10352, 16: 21195.04102, 17: 20781.91211, 18: 22467.84961, 19: 23393.19141, 20: 23233.20117, 21: 23163.75195, 22: 22706.98438, 23: 22465.50977, 24: 22607.15625, 25: 21361.12109, 26: 21244.16992, 27: 22933.64063, 28: 23845.21289, 29: 23796.81836, 30: 23652.07031}, 'Close': {0: 19269.36719, 1: 19242.25586, 2: 19297.07617, 3: 20231.26172, 4: 20190.11523, 5: 20548.24609, 6: 21637.58789, 7: 21731.11719, 8: 21592.20703, 9: 20860.44922, 10: 19970.55664, 11: 19323.91406, 12: 20212.07422, 13: 20569.91992, 14: 20836.32813, 15: 21190.31641, 16: 20779.34375, 17: 22485.68945, 18: 23389.43359, 19: 23231.73242, 20: 23164.62891, 21: 22714.97852, 22: 22465.47852, 23: 22609.16406, 24: 21361.70117, 25: 21239.75391, 26: 22930.54883, 27: 23843.88672, 28: 23804.63281, 29: 23656.20703, 30: 23336.89648}, 'Volume': {0: 30767551159, 1: 18100418740, 2: 16390821947, 3: 21594638208, 4: 26715546990, 5: 24598943708, 6: 25814972520, 7: 49899834488, 8: 29641127858, 9: 28688807249, 10: 24150249025, 11: 25810220018, 12: 33042430345, 13: 31158743333, 14: 25905575359, 15: 24302954056, 16: 22927802083, 17: 39974475562, 18: 48765202697, 19: 42932549127, 20: 33631012204, 21: 31421555646, 22: 24021799169, 23: 23565495303, 24: 35574561406, 25: 28624673855, 26: 31758955233, 27: 40212386158, 28: 35887249746, 29: 28148218301, 30: 23553591896}, 'Adj Close': {0: 19269.36719, 1: 19242.25586, 2: 19297.07617, 3: 20231.26172, 4: 20190.11523, 5: 20548.24609, 6: 21637.58789, 7: 21731.11719, 8: 21592.20703, 9: 20860.44922, 10: 19970.55664, 11: 19323.91406, 12: 20212.07422, 13: 20569.91992, 14: 20836.32813, 15: 21190.31641, 16: 20779.34375, 17: 22485.68945, 18: 23389.43359, 19: 23231.73242, 20: 23164.62891, 21: 22714.97852, 22: 22465.47852, 23: 22609.16406, 24: 21361.70117, 25: 21239.75391, 26: 22930.54883, 27: 23843.88672, 28: 23804.63281, 29: 23656.20703, 30: 23336.89648}, 'PriceDiff': {0: 1558.9629000000023, 1: 344.66601999999693, 2: 591.3183600000011, 3: 1195.6816399999989, 4: 1294.234379999998, 5: 772.0175799999997, 6: 1475.7128899999989, 7: 1057.4882799999978, 8: 431.1816399999989, 9: 863.9570300000014, 10: 931.8144600000014, 11: 734.9140599999992, 12: 1223.0995999999977, 13: 1100.6367200000022, 14: 741.2441399999989, 15: 995.5058599999975, 16: 822.4609400000008, 17: 1851.1210900000005, 18: 1983.5566399999989, 19: 1186.8691400000025, 20: 957.1738299999997, 21: 1068.5117099999989, 22: 974.3007800000014, 23: 667.1621100000011, 24: 1287.4785100000008, 25: 584.3046800000011, 26: 1915.7226599999995, 27: 1388.20507, 28: 813.6132800000014, 29: 992.0722700000006, 30: 845.939449999998}, 'DayChg(%)': {0: -2.604834433456016, 1: -0.14069652486600193, 2: 0.2848954426074135, 3: 4.841073029769771, 4: -0.20338074100105796, 5: 1.7737930463510354, 6: 5.30138579822701, 7: 0.432253819027717, 8: -0.6392223592808222, 9: -3.388990337964548, 10: -4.26593200661668, 11: -3.237979750172848, 12: 4.596171134079241, 13: 1.7704551057204698, 14: 1.295134891317562, 15: 1.6988995267852802, 16: -1.939436165313968, 17: 8.211740084428797, 18: 4.019196929716551, 19: -0.6742410815259059, 20: -0.28884419287745766, 21: -1.9411076764794921, 22: -1.0983941709666212, 23: 0.6395837056045073, 24: -5.517510009169257, 25: -0.570868673002789, 26: 7.960520292111051, 27: 3.9830616212948255, 28: -0.16462882272911816, 29: -0.6235163599652149, 30: -1.349796058155317}, 'VolDayChg(%)': {0: 17.132790689818368, 1: -41.17042774557852, 2: -9.445067639357829, 3: 31.748354523199794, 4: 23.713797530087334, 5: -7.9227398293296165, 6: 4.943418816819056, 7: 93.29803450048375, 8: -40.59874514187387, 9: -3.2128352657909143, 10: -15.819961368934921, 11: 6.8735150154419555, 12: 28.02072327146483, 13: -5.700812538097821, 14: -16.8593704754338, 15: -6.186395325295191, 16: -5.658373750908263, 17: 74.34935724449309, 18: 21.99085043996556, 19: -11.960687636716871, 20: -21.665466207200645, 21: -6.569699849049481, 22: -23.54993673886416, 23: -1.8995407579164958, 24: 50.96038062680221, 25: -19.536115910701945, 26: 10.94957935198455, 27: 26.617471711463093, 28: -10.755731816077619, 29: -21.564849632598538, 30: -16.322974178570902}}\n"
     ]
    }
   ],
   "source": [
    "#converting the Prices dataframe to a dictionary\n",
    "\n",
    "my_dict = Prices.to_dict()\n",
    "print(my_dict)"
   ]
  },
  {
   "cell_type": "markdown",
   "id": "ff4045aa",
   "metadata": {},
   "source": [
    "# Importing data for Regex and Machine Learning"
   ]
  },
  {
   "cell_type": "code",
   "execution_count": 85,
   "id": "8c3f8dcb",
   "metadata": {},
   "outputs": [
    {
     "data": {
      "text/plain": [
       "(12477, 8)"
      ]
     },
     "execution_count": 85,
     "metadata": {},
     "output_type": "execute_result"
    }
   ],
   "source": [
    "#import pandas and import a csv file with random client investment data\n",
    "#check the shape of the data (rows and columns)\n",
    "\n",
    "import pandas as pd\n",
    "Client = pd.read_csv('RandomClientData.csv')\n",
    "Client.shape"
   ]
  },
  {
   "cell_type": "code",
   "execution_count": 86,
   "id": "b570820c",
   "metadata": {},
   "outputs": [
    {
     "data": {
      "text/html": [
       "<div>\n",
       "<style scoped>\n",
       "    .dataframe tbody tr th:only-of-type {\n",
       "        vertical-align: middle;\n",
       "    }\n",
       "\n",
       "    .dataframe tbody tr th {\n",
       "        vertical-align: top;\n",
       "    }\n",
       "\n",
       "    .dataframe thead th {\n",
       "        text-align: right;\n",
       "    }\n",
       "</style>\n",
       "<table border=\"1\" class=\"dataframe\">\n",
       "  <thead>\n",
       "    <tr style=\"text-align: right;\">\n",
       "      <th></th>\n",
       "      <th>FIRST_INV_DATE</th>\n",
       "      <th>NAME</th>\n",
       "      <th>GENDER</th>\n",
       "      <th>AGE</th>\n",
       "      <th>STATE</th>\n",
       "      <th>COUNTRY</th>\n",
       "      <th>INVESTMENT_TYPE</th>\n",
       "      <th>NET_ASSET_VALUE</th>\n",
       "    </tr>\n",
       "  </thead>\n",
       "  <tbody>\n",
       "    <tr>\n",
       "      <th>0</th>\n",
       "      <td>2012</td>\n",
       "      <td>Bank of America Corp.%2f Bank of America,NA</td>\n",
       "      <td>MALE</td>\n",
       "      <td>18</td>\n",
       "      <td>DE</td>\n",
       "      <td>United States</td>\n",
       "      <td>Alternative</td>\n",
       "      <td>2.123322e+05</td>\n",
       "    </tr>\n",
       "    <tr>\n",
       "      <th>1</th>\n",
       "      <td>2012</td>\n",
       "      <td>Chicago Carriage Cab Company</td>\n",
       "      <td>MALE</td>\n",
       "      <td>18</td>\n",
       "      <td>IL</td>\n",
       "      <td>United States</td>\n",
       "      <td>Alternative</td>\n",
       "      <td>7.184642e+05</td>\n",
       "    </tr>\n",
       "    <tr>\n",
       "      <th>2</th>\n",
       "      <td>2012</td>\n",
       "      <td>Barrett &amp; Porto</td>\n",
       "      <td>FEMALE</td>\n",
       "      <td>18</td>\n",
       "      <td>IL</td>\n",
       "      <td>United States</td>\n",
       "      <td>Alternative</td>\n",
       "      <td>2.134082e+04</td>\n",
       "    </tr>\n",
       "    <tr>\n",
       "      <th>3</th>\n",
       "      <td>2014</td>\n",
       "      <td>Sutherland LLC</td>\n",
       "      <td>FEMALE</td>\n",
       "      <td>18</td>\n",
       "      <td>NJ</td>\n",
       "      <td>United States</td>\n",
       "      <td>Alternative</td>\n",
       "      <td>1.325084e+05</td>\n",
       "    </tr>\n",
       "    <tr>\n",
       "      <th>4</th>\n",
       "      <td>2012</td>\n",
       "      <td>Museums in the Park</td>\n",
       "      <td>MALE</td>\n",
       "      <td>18</td>\n",
       "      <td>IL</td>\n",
       "      <td>United States</td>\n",
       "      <td>Alternative</td>\n",
       "      <td>7.348773e+05</td>\n",
       "    </tr>\n",
       "    <tr>\n",
       "      <th>5</th>\n",
       "      <td>2017</td>\n",
       "      <td>VPC 740 Rush LLC</td>\n",
       "      <td>FEMALE</td>\n",
       "      <td>18</td>\n",
       "      <td>IL</td>\n",
       "      <td>United States</td>\n",
       "      <td>Alternative</td>\n",
       "      <td>8.058988e+07</td>\n",
       "    </tr>\n",
       "    <tr>\n",
       "      <th>6</th>\n",
       "      <td>2017</td>\n",
       "      <td>Siebert Cisneros Shank &amp; Co., L.L.C.</td>\n",
       "      <td>FEMALE</td>\n",
       "      <td>18</td>\n",
       "      <td>IL</td>\n",
       "      <td>United States</td>\n",
       "      <td>Alternative</td>\n",
       "      <td>2.121812e+07</td>\n",
       "    </tr>\n",
       "    <tr>\n",
       "      <th>7</th>\n",
       "      <td>2017</td>\n",
       "      <td>Ispas, Luminita</td>\n",
       "      <td>MALE</td>\n",
       "      <td>18</td>\n",
       "      <td>IL</td>\n",
       "      <td>United States</td>\n",
       "      <td>Alternative</td>\n",
       "      <td>4.540736e+07</td>\n",
       "    </tr>\n",
       "    <tr>\n",
       "      <th>8</th>\n",
       "      <td>2017</td>\n",
       "      <td>Merrill Lynch, Pierce, Fenner &amp; Smith, Inc.</td>\n",
       "      <td>MALE</td>\n",
       "      <td>18</td>\n",
       "      <td>NC</td>\n",
       "      <td>United States</td>\n",
       "      <td>Alternative</td>\n",
       "      <td>9.036452e+07</td>\n",
       "    </tr>\n",
       "    <tr>\n",
       "      <th>9</th>\n",
       "      <td>2017</td>\n",
       "      <td>Adekola, Michelle</td>\n",
       "      <td>MALE</td>\n",
       "      <td>18</td>\n",
       "      <td>IL</td>\n",
       "      <td>United States</td>\n",
       "      <td>Alternative</td>\n",
       "      <td>1.949112e+07</td>\n",
       "    </tr>\n",
       "  </tbody>\n",
       "</table>\n",
       "</div>"
      ],
      "text/plain": [
       "   FIRST_INV_DATE                                         NAME  GENDER  AGE  \\\n",
       "0            2012  Bank of America Corp.%2f Bank of America,NA    MALE   18   \n",
       "1            2012                 Chicago Carriage Cab Company    MALE   18   \n",
       "2            2012                              Barrett & Porto  FEMALE   18   \n",
       "3            2014                               Sutherland LLC  FEMALE   18   \n",
       "4            2012                          Museums in the Park    MALE   18   \n",
       "5            2017                             VPC 740 Rush LLC  FEMALE   18   \n",
       "6            2017         Siebert Cisneros Shank & Co., L.L.C.  FEMALE   18   \n",
       "7            2017                              Ispas, Luminita    MALE   18   \n",
       "8            2017  Merrill Lynch, Pierce, Fenner & Smith, Inc.    MALE   18   \n",
       "9            2017                            Adekola, Michelle    MALE   18   \n",
       "\n",
       "  STATE        COUNTRY INVESTMENT_TYPE  NET_ASSET_VALUE  \n",
       "0    DE  United States     Alternative     2.123322e+05  \n",
       "1    IL  United States     Alternative     7.184642e+05  \n",
       "2    IL  United States     Alternative     2.134082e+04  \n",
       "3    NJ  United States     Alternative     1.325084e+05  \n",
       "4    IL  United States     Alternative     7.348773e+05  \n",
       "5    IL  United States     Alternative     8.058988e+07  \n",
       "6    IL  United States     Alternative     2.121812e+07  \n",
       "7    IL  United States     Alternative     4.540736e+07  \n",
       "8    NC  United States     Alternative     9.036452e+07  \n",
       "9    IL  United States     Alternative     1.949112e+07  "
      ]
     },
     "execution_count": 86,
     "metadata": {},
     "output_type": "execute_result"
    }
   ],
   "source": [
    "#See what the data looks like\n",
    "\n",
    "Client.head(10)"
   ]
  },
  {
   "cell_type": "code",
   "execution_count": 87,
   "id": "8a6fe938",
   "metadata": {},
   "outputs": [
    {
     "name": "stdout",
     "output_type": "stream",
     "text": [
      "<class 'pandas.core.frame.DataFrame'>\n",
      "RangeIndex: 12477 entries, 0 to 12476\n",
      "Data columns (total 8 columns):\n",
      " #   Column           Non-Null Count  Dtype  \n",
      "---  ------           --------------  -----  \n",
      " 0   FIRST_INV_DATE   12477 non-null  int64  \n",
      " 1   NAME             12475 non-null  object \n",
      " 2   GENDER           12477 non-null  object \n",
      " 3   AGE              12477 non-null  int64  \n",
      " 4   STATE            12470 non-null  object \n",
      " 5   COUNTRY          12477 non-null  object \n",
      " 6   INVESTMENT_TYPE  12477 non-null  object \n",
      " 7   NET_ASSET_VALUE  12477 non-null  float64\n",
      "dtypes: float64(1), int64(2), object(5)\n",
      "memory usage: 779.9+ KB\n"
     ]
    }
   ],
   "source": [
    "#check for any missing data\n",
    "Client.info()"
   ]
  },
  {
   "cell_type": "code",
   "execution_count": 88,
   "id": "5987d1d9",
   "metadata": {},
   "outputs": [
    {
     "data": {
      "text/html": [
       "<div>\n",
       "<style scoped>\n",
       "    .dataframe tbody tr th:only-of-type {\n",
       "        vertical-align: middle;\n",
       "    }\n",
       "\n",
       "    .dataframe tbody tr th {\n",
       "        vertical-align: top;\n",
       "    }\n",
       "\n",
       "    .dataframe thead th {\n",
       "        text-align: right;\n",
       "    }\n",
       "</style>\n",
       "<table border=\"1\" class=\"dataframe\">\n",
       "  <thead>\n",
       "    <tr style=\"text-align: right;\">\n",
       "      <th></th>\n",
       "      <th>FIRST_INV_DATE</th>\n",
       "      <th>NAME</th>\n",
       "      <th>GENDER</th>\n",
       "      <th>AGE</th>\n",
       "      <th>STATE</th>\n",
       "      <th>COUNTRY</th>\n",
       "      <th>INVESTMENT_TYPE</th>\n",
       "      <th>NET_ASSET_VALUE</th>\n",
       "    </tr>\n",
       "  </thead>\n",
       "  <tbody>\n",
       "    <tr>\n",
       "      <th>2292</th>\n",
       "      <td>2011</td>\n",
       "      <td>Government Enhancement Services</td>\n",
       "      <td>FEMALE</td>\n",
       "      <td>34</td>\n",
       "      <td>NaN</td>\n",
       "      <td>United States</td>\n",
       "      <td>Cash</td>\n",
       "      <td>1.397008e+05</td>\n",
       "    </tr>\n",
       "    <tr>\n",
       "      <th>3930</th>\n",
       "      <td>2011</td>\n",
       "      <td>Catherine Cook School</td>\n",
       "      <td>MALE</td>\n",
       "      <td>39</td>\n",
       "      <td>NaN</td>\n",
       "      <td>United States</td>\n",
       "      <td>ETF</td>\n",
       "      <td>4.202933e+05</td>\n",
       "    </tr>\n",
       "    <tr>\n",
       "      <th>4763</th>\n",
       "      <td>2011</td>\n",
       "      <td>dEvRY, iNC</td>\n",
       "      <td>FEMALE</td>\n",
       "      <td>41</td>\n",
       "      <td>NaN</td>\n",
       "      <td>United States</td>\n",
       "      <td>ETF</td>\n",
       "      <td>1.014692e+05</td>\n",
       "    </tr>\n",
       "    <tr>\n",
       "      <th>9335</th>\n",
       "      <td>2011</td>\n",
       "      <td>Holsten</td>\n",
       "      <td>MALE</td>\n",
       "      <td>54</td>\n",
       "      <td>NaN</td>\n",
       "      <td>United States</td>\n",
       "      <td>Currency</td>\n",
       "      <td>1.070342e+06</td>\n",
       "    </tr>\n",
       "    <tr>\n",
       "      <th>9373</th>\n",
       "      <td>2019</td>\n",
       "      <td>NaN</td>\n",
       "      <td>FEMALE</td>\n",
       "      <td>54</td>\n",
       "      <td>MN</td>\n",
       "      <td>United States</td>\n",
       "      <td>Equities</td>\n",
       "      <td>8.448056e+07</td>\n",
       "    </tr>\n",
       "    <tr>\n",
       "      <th>9501</th>\n",
       "      <td>2018</td>\n",
       "      <td>NaN</td>\n",
       "      <td>FEMALE</td>\n",
       "      <td>55</td>\n",
       "      <td>IL</td>\n",
       "      <td>United States</td>\n",
       "      <td>Equities</td>\n",
       "      <td>2.713110e+05</td>\n",
       "    </tr>\n",
       "    <tr>\n",
       "      <th>10345</th>\n",
       "      <td>2011</td>\n",
       "      <td>Bruno, Al</td>\n",
       "      <td>FEMALE</td>\n",
       "      <td>57</td>\n",
       "      <td>NaN</td>\n",
       "      <td>United States</td>\n",
       "      <td>Equities</td>\n",
       "      <td>6.531436e+03</td>\n",
       "    </tr>\n",
       "    <tr>\n",
       "      <th>10978</th>\n",
       "      <td>2012</td>\n",
       "      <td>55th &amp; State LLC</td>\n",
       "      <td>FEMALE</td>\n",
       "      <td>59</td>\n",
       "      <td>NaN</td>\n",
       "      <td>United States</td>\n",
       "      <td>Equities</td>\n",
       "      <td>1.168996e+02</td>\n",
       "    </tr>\n",
       "    <tr>\n",
       "      <th>11174</th>\n",
       "      <td>2011</td>\n",
       "      <td>CGI Technologies &amp; Solutions, Inc</td>\n",
       "      <td>MALE</td>\n",
       "      <td>60</td>\n",
       "      <td>NaN</td>\n",
       "      <td>United States</td>\n",
       "      <td>Equities</td>\n",
       "      <td>1.171793e+06</td>\n",
       "    </tr>\n",
       "  </tbody>\n",
       "</table>\n",
       "</div>"
      ],
      "text/plain": [
       "       FIRST_INV_DATE                               NAME  GENDER  AGE STATE  \\\n",
       "2292             2011    Government Enhancement Services  FEMALE   34   NaN   \n",
       "3930             2011              Catherine Cook School    MALE   39   NaN   \n",
       "4763             2011                         dEvRY, iNC  FEMALE   41   NaN   \n",
       "9335             2011                            Holsten    MALE   54   NaN   \n",
       "9373             2019                                NaN  FEMALE   54    MN   \n",
       "9501             2018                                NaN  FEMALE   55    IL   \n",
       "10345            2011                          Bruno, Al  FEMALE   57   NaN   \n",
       "10978            2012                   55th & State LLC  FEMALE   59   NaN   \n",
       "11174            2011  CGI Technologies & Solutions, Inc    MALE   60   NaN   \n",
       "\n",
       "             COUNTRY INVESTMENT_TYPE  NET_ASSET_VALUE  \n",
       "2292   United States            Cash     1.397008e+05  \n",
       "3930   United States             ETF     4.202933e+05  \n",
       "4763   United States             ETF     1.014692e+05  \n",
       "9335   United States        Currency     1.070342e+06  \n",
       "9373   United States        Equities     8.448056e+07  \n",
       "9501   United States        Equities     2.713110e+05  \n",
       "10345  United States        Equities     6.531436e+03  \n",
       "10978  United States        Equities     1.168996e+02  \n",
       "11174  United States        Equities     1.171793e+06  "
      ]
     },
     "execution_count": 88,
     "metadata": {},
     "output_type": "execute_result"
    }
   ],
   "source": [
    "#there are 7 rows that are missing the State and 2 rows that are missing the name\n",
    "#as we have 12477 rows of data, I will drop these rows rather than populate random data\n",
    "\n",
    "null_data = Client[Client.isnull().any(axis=1)]\n",
    "null_data"
   ]
  },
  {
   "cell_type": "code",
   "execution_count": 89,
   "id": "174005ce",
   "metadata": {},
   "outputs": [
    {
     "name": "stdout",
     "output_type": "stream",
     "text": [
      "<class 'pandas.core.frame.DataFrame'>\n",
      "Int64Index: 12468 entries, 0 to 12476\n",
      "Data columns (total 8 columns):\n",
      " #   Column           Non-Null Count  Dtype  \n",
      "---  ------           --------------  -----  \n",
      " 0   FIRST_INV_DATE   12468 non-null  int64  \n",
      " 1   NAME             12468 non-null  object \n",
      " 2   GENDER           12468 non-null  object \n",
      " 3   AGE              12468 non-null  int64  \n",
      " 4   STATE            12468 non-null  object \n",
      " 5   COUNTRY          12468 non-null  object \n",
      " 6   INVESTMENT_TYPE  12468 non-null  object \n",
      " 7   NET_ASSET_VALUE  12468 non-null  float64\n",
      "dtypes: float64(1), int64(2), object(5)\n",
      "memory usage: 876.7+ KB\n"
     ]
    }
   ],
   "source": [
    "#delete rows with NaN, None or Null values\n",
    "\n",
    "Client = Client.dropna()\n",
    "Client.info()"
   ]
  },
  {
   "cell_type": "code",
   "execution_count": 90,
   "id": "d7e68db7",
   "metadata": {},
   "outputs": [
    {
     "data": {
      "text/html": [
       "<div>\n",
       "<style scoped>\n",
       "    .dataframe tbody tr th:only-of-type {\n",
       "        vertical-align: middle;\n",
       "    }\n",
       "\n",
       "    .dataframe tbody tr th {\n",
       "        vertical-align: top;\n",
       "    }\n",
       "\n",
       "    .dataframe thead th {\n",
       "        text-align: right;\n",
       "    }\n",
       "</style>\n",
       "<table border=\"1\" class=\"dataframe\">\n",
       "  <thead>\n",
       "    <tr style=\"text-align: right;\">\n",
       "      <th></th>\n",
       "      <th>FIRST_INV_DATE</th>\n",
       "      <th>AGE</th>\n",
       "      <th>NET_ASSET_VALUE</th>\n",
       "    </tr>\n",
       "  </thead>\n",
       "  <tbody>\n",
       "    <tr>\n",
       "      <th>count</th>\n",
       "      <td>12468.000000</td>\n",
       "      <td>12468.000000</td>\n",
       "      <td>1.246800e+04</td>\n",
       "    </tr>\n",
       "    <tr>\n",
       "      <th>mean</th>\n",
       "      <td>2014.104668</td>\n",
       "      <td>46.094963</td>\n",
       "      <td>2.094786e+07</td>\n",
       "    </tr>\n",
       "    <tr>\n",
       "      <th>std</th>\n",
       "      <td>2.246650</td>\n",
       "      <td>12.595825</td>\n",
       "      <td>3.534622e+07</td>\n",
       "    </tr>\n",
       "    <tr>\n",
       "      <th>min</th>\n",
       "      <td>2011.000000</td>\n",
       "      <td>18.000000</td>\n",
       "      <td>4.000000e-04</td>\n",
       "    </tr>\n",
       "    <tr>\n",
       "      <th>25%</th>\n",
       "      <td>2012.000000</td>\n",
       "      <td>36.000000</td>\n",
       "      <td>2.432711e+05</td>\n",
       "    </tr>\n",
       "    <tr>\n",
       "      <th>50%</th>\n",
       "      <td>2014.000000</td>\n",
       "      <td>45.000000</td>\n",
       "      <td>8.439364e+05</td>\n",
       "    </tr>\n",
       "    <tr>\n",
       "      <th>75%</th>\n",
       "      <td>2016.000000</td>\n",
       "      <td>54.000000</td>\n",
       "      <td>3.139120e+07</td>\n",
       "    </tr>\n",
       "    <tr>\n",
       "      <th>max</th>\n",
       "      <td>2020.000000</td>\n",
       "      <td>96.000000</td>\n",
       "      <td>1.234153e+08</td>\n",
       "    </tr>\n",
       "  </tbody>\n",
       "</table>\n",
       "</div>"
      ],
      "text/plain": [
       "       FIRST_INV_DATE           AGE  NET_ASSET_VALUE\n",
       "count    12468.000000  12468.000000     1.246800e+04\n",
       "mean      2014.104668     46.094963     2.094786e+07\n",
       "std          2.246650     12.595825     3.534622e+07\n",
       "min       2011.000000     18.000000     4.000000e-04\n",
       "25%       2012.000000     36.000000     2.432711e+05\n",
       "50%       2014.000000     45.000000     8.439364e+05\n",
       "75%       2016.000000     54.000000     3.139120e+07\n",
       "max       2020.000000     96.000000     1.234153e+08"
      ]
     },
     "execution_count": 90,
     "metadata": {},
     "output_type": "execute_result"
    }
   ],
   "source": [
    "#check the stats of the Client dataframe\n",
    "\n",
    "Client.describe()"
   ]
  },
  {
   "cell_type": "code",
   "execution_count": 91,
   "id": "80a62980",
   "metadata": {},
   "outputs": [
    {
     "data": {
      "image/png": "[encoded data removed]",
      "text/plain": [
       "<Figure size 432x288 with 1 Axes>"
      ]
     },
     "metadata": {
      "needs_background": "light"
     },
     "output_type": "display_data"
    }
   ],
   "source": [
    "#plot a histogram of the age column to see the distribution of ages into 8 buckets(bins)\n",
    "\n",
    "import matplotlib.pyplot as plt\n",
    "import numpy as np\n",
    "\n",
    "plt.hist(Client['AGE'], bins = 8, rwidth = .9,color = 'purple')\n",
    "plt.show()"
   ]
  },
  {
   "cell_type": "markdown",
   "id": "5ca9359f",
   "metadata": {},
   "source": [
    "# Using Regex "
   ]
  },
  {
   "cell_type": "code",
   "execution_count": 92,
   "id": "e2d9e0bc",
   "metadata": {},
   "outputs": [
    {
     "name": "stdout",
     "output_type": "stream",
     "text": [
      "['Sutherland', 'Continental', 'Corporation', 'Electrical', 'Management']\n"
     ]
    }
   ],
   "source": [
    "#import re\n",
    "#find words with 10 characters or more\n",
    "\n",
    "import re\n",
    "print(re.findall(r'\\w{10,}',str(Client['NAME'])))"
   ]
  },
  {
   "cell_type": "code",
   "execution_count": 93,
   "id": "661f7ac2",
   "metadata": {},
   "outputs": [
    {
     "name": "stdout",
     "output_type": "stream",
     "text": [
      "['Corp', 'Company', 'Continental', 'Corporation']\n"
     ]
    }
   ],
   "source": [
    "#find words which start with 'Co'\n",
    "\n",
    "print(re.findall(r'Co\\w+',str(Client['NAME'])))"
   ]
  },
  {
   "cell_type": "code",
   "execution_count": 94,
   "id": "4ab79494",
   "metadata": {},
   "outputs": [
    {
     "name": "stdout",
     "output_type": "stream",
     "text": [
      "False    11932\n",
      "True       536\n",
      "Name: NAME, dtype: int64\n"
     ]
    }
   ],
   "source": [
    "#and print out the number of rows that contain words starting with 'Dev' (there are 536)\n",
    "\n",
    "Devs = Client['NAME'].str.contains('Dev\\w+').value_counts()\n",
    "print(Devs)"
   ]
  },
  {
   "cell_type": "code",
   "execution_count": 95,
   "id": "d341e792",
   "metadata": {},
   "outputs": [
    {
     "data": {
      "text/html": [
       "<div>\n",
       "<style scoped>\n",
       "    .dataframe tbody tr th:only-of-type {\n",
       "        vertical-align: middle;\n",
       "    }\n",
       "\n",
       "    .dataframe tbody tr th {\n",
       "        vertical-align: top;\n",
       "    }\n",
       "\n",
       "    .dataframe thead th {\n",
       "        text-align: right;\n",
       "    }\n",
       "</style>\n",
       "<table border=\"1\" class=\"dataframe\">\n",
       "  <thead>\n",
       "    <tr style=\"text-align: right;\">\n",
       "      <th></th>\n",
       "      <th>FIRST_INV_DATE</th>\n",
       "      <th>NAME</th>\n",
       "      <th>GENDER</th>\n",
       "      <th>AGE</th>\n",
       "      <th>STATE</th>\n",
       "      <th>COUNTRY</th>\n",
       "      <th>INVESTMENT_TYPE</th>\n",
       "      <th>NET_ASSET_VALUE</th>\n",
       "    </tr>\n",
       "  </thead>\n",
       "  <tbody>\n",
       "    <tr>\n",
       "      <th>172</th>\n",
       "      <td>2017</td>\n",
       "      <td>1010-1058 West 35th Street (Chicago) LLC</td>\n",
       "      <td>MALE</td>\n",
       "      <td>23</td>\n",
       "      <td>IL</td>\n",
       "      <td>United States</td>\n",
       "      <td>Alternative</td>\n",
       "      <td>6.351583e+07</td>\n",
       "    </tr>\n",
       "    <tr>\n",
       "      <th>468</th>\n",
       "      <td>2011</td>\n",
       "      <td>5202-5210 S. Cornell LLC</td>\n",
       "      <td>MALE</td>\n",
       "      <td>29</td>\n",
       "      <td>NJ</td>\n",
       "      <td>United States</td>\n",
       "      <td>Currency</td>\n",
       "      <td>1.226806e+06</td>\n",
       "    </tr>\n",
       "    <tr>\n",
       "      <th>931</th>\n",
       "      <td>2013</td>\n",
       "      <td>1124-1128 Wrightwood LLC</td>\n",
       "      <td>FEMALE</td>\n",
       "      <td>30</td>\n",
       "      <td>IL</td>\n",
       "      <td>United States</td>\n",
       "      <td>Currency</td>\n",
       "      <td>3.122057e+05</td>\n",
       "    </tr>\n",
       "    <tr>\n",
       "      <th>1627</th>\n",
       "      <td>2013</td>\n",
       "      <td>5100-5120 S. Ellis LLC</td>\n",
       "      <td>MALE</td>\n",
       "      <td>32</td>\n",
       "      <td>NJ</td>\n",
       "      <td>United States</td>\n",
       "      <td>Currency</td>\n",
       "      <td>1.776046e+05</td>\n",
       "    </tr>\n",
       "    <tr>\n",
       "      <th>1889</th>\n",
       "      <td>2013</td>\n",
       "      <td>2040-2042 N Damen Ave LLC</td>\n",
       "      <td>FEMALE</td>\n",
       "      <td>33</td>\n",
       "      <td>IL</td>\n",
       "      <td>United States</td>\n",
       "      <td>Cash</td>\n",
       "      <td>8.129814e+05</td>\n",
       "    </tr>\n",
       "    <tr>\n",
       "      <th>2133</th>\n",
       "      <td>2011</td>\n",
       "      <td>5335-5345 S. Kimbark LLC</td>\n",
       "      <td>MALE</td>\n",
       "      <td>34</td>\n",
       "      <td>NJ</td>\n",
       "      <td>United States</td>\n",
       "      <td>Currency</td>\n",
       "      <td>6.244000e-01</td>\n",
       "    </tr>\n",
       "    <tr>\n",
       "      <th>2360</th>\n",
       "      <td>2019</td>\n",
       "      <td>1218-1220 N. Carman LLC</td>\n",
       "      <td>MALE</td>\n",
       "      <td>34</td>\n",
       "      <td>IL</td>\n",
       "      <td>United States</td>\n",
       "      <td>Currency</td>\n",
       "      <td>8.281113e+05</td>\n",
       "    </tr>\n",
       "    <tr>\n",
       "      <th>3159</th>\n",
       "      <td>2017</td>\n",
       "      <td>5019-5021 N ASHLAND LLC C/O DREW BRENEMAN</td>\n",
       "      <td>FEMALE</td>\n",
       "      <td>36</td>\n",
       "      <td>IL</td>\n",
       "      <td>United States</td>\n",
       "      <td>Currency</td>\n",
       "      <td>5.715613e+07</td>\n",
       "    </tr>\n",
       "    <tr>\n",
       "      <th>3203</th>\n",
       "      <td>2014</td>\n",
       "      <td>2040-2042 N Damen Ave LLC</td>\n",
       "      <td>MALE</td>\n",
       "      <td>37</td>\n",
       "      <td>IL</td>\n",
       "      <td>United States</td>\n",
       "      <td>Currency</td>\n",
       "      <td>7.293004e+05</td>\n",
       "    </tr>\n",
       "    <tr>\n",
       "      <th>3882</th>\n",
       "      <td>2011</td>\n",
       "      <td>5400-5408 S. Inglesdie, LLC</td>\n",
       "      <td>MALE</td>\n",
       "      <td>39</td>\n",
       "      <td>NJ</td>\n",
       "      <td>United States</td>\n",
       "      <td>ETF</td>\n",
       "      <td>4.050534e+05</td>\n",
       "    </tr>\n",
       "    <tr>\n",
       "      <th>4235</th>\n",
       "      <td>2017</td>\n",
       "      <td>5487-5491 S. Hyde Park, LLC</td>\n",
       "      <td>MALE</td>\n",
       "      <td>39</td>\n",
       "      <td>NJ</td>\n",
       "      <td>United States</td>\n",
       "      <td>Equities</td>\n",
       "      <td>8.065805e+07</td>\n",
       "    </tr>\n",
       "    <tr>\n",
       "      <th>5040</th>\n",
       "      <td>2013</td>\n",
       "      <td>Berke, Benitta, as Trustee under trust agreeme...</td>\n",
       "      <td>FEMALE</td>\n",
       "      <td>42</td>\n",
       "      <td>IL</td>\n",
       "      <td>United States</td>\n",
       "      <td>ETF</td>\n",
       "      <td>6.201649e+03</td>\n",
       "    </tr>\n",
       "    <tr>\n",
       "      <th>7131</th>\n",
       "      <td>2012</td>\n",
       "      <td>1864-1870 North Damen, LLC</td>\n",
       "      <td>MALE</td>\n",
       "      <td>48</td>\n",
       "      <td>IL</td>\n",
       "      <td>United States</td>\n",
       "      <td>Equities</td>\n",
       "      <td>3.304096e+04</td>\n",
       "    </tr>\n",
       "    <tr>\n",
       "      <th>8991</th>\n",
       "      <td>2012</td>\n",
       "      <td>2004-2008 W. Erie Street, LLC c/o Bartlomiej P...</td>\n",
       "      <td>MALE</td>\n",
       "      <td>53</td>\n",
       "      <td>IL</td>\n",
       "      <td>United States</td>\n",
       "      <td>Equities</td>\n",
       "      <td>3.485890e+05</td>\n",
       "    </tr>\n",
       "    <tr>\n",
       "      <th>9240</th>\n",
       "      <td>2011</td>\n",
       "      <td>1218-1220 N. Carman LLC</td>\n",
       "      <td>FEMALE</td>\n",
       "      <td>54</td>\n",
       "      <td>IL</td>\n",
       "      <td>United States</td>\n",
       "      <td>Cash</td>\n",
       "      <td>3.996977e+03</td>\n",
       "    </tr>\n",
       "    <tr>\n",
       "      <th>9312</th>\n",
       "      <td>2012</td>\n",
       "      <td>5528-5532 Everett LLC</td>\n",
       "      <td>FEMALE</td>\n",
       "      <td>54</td>\n",
       "      <td>NJ</td>\n",
       "      <td>United States</td>\n",
       "      <td>Currency</td>\n",
       "      <td>4.960897e+05</td>\n",
       "    </tr>\n",
       "    <tr>\n",
       "      <th>9842</th>\n",
       "      <td>2014</td>\n",
       "      <td>3700-3714 N California Rowhomes LLC</td>\n",
       "      <td>MALE</td>\n",
       "      <td>56</td>\n",
       "      <td>IL</td>\n",
       "      <td>United States</td>\n",
       "      <td>Currency</td>\n",
       "      <td>1.172727e+06</td>\n",
       "    </tr>\n",
       "    <tr>\n",
       "      <th>9984</th>\n",
       "      <td>2018</td>\n",
       "      <td>1331-1335 N Dearborn Condo Assoc.</td>\n",
       "      <td>FEMALE</td>\n",
       "      <td>56</td>\n",
       "      <td>IL</td>\n",
       "      <td>United States</td>\n",
       "      <td>Equities</td>\n",
       "      <td>1.176858e+06</td>\n",
       "    </tr>\n",
       "    <tr>\n",
       "      <th>10661</th>\n",
       "      <td>2011</td>\n",
       "      <td>5339-5345 S. Woodlawn LLC</td>\n",
       "      <td>MALE</td>\n",
       "      <td>58</td>\n",
       "      <td>NJ</td>\n",
       "      <td>United States</td>\n",
       "      <td>Equities</td>\n",
       "      <td>7.846256e+05</td>\n",
       "    </tr>\n",
       "  </tbody>\n",
       "</table>\n",
       "</div>"
      ],
      "text/plain": [
       "       FIRST_INV_DATE                                               NAME  \\\n",
       "172              2017           1010-1058 West 35th Street (Chicago) LLC   \n",
       "468              2011                           5202-5210 S. Cornell LLC   \n",
       "931              2013                           1124-1128 Wrightwood LLC   \n",
       "1627             2013                             5100-5120 S. Ellis LLC   \n",
       "1889             2013                          2040-2042 N Damen Ave LLC   \n",
       "2133             2011                           5335-5345 S. Kimbark LLC   \n",
       "2360             2019                            1218-1220 N. Carman LLC   \n",
       "3159             2017          5019-5021 N ASHLAND LLC C/O DREW BRENEMAN   \n",
       "3203             2014                          2040-2042 N Damen Ave LLC   \n",
       "3882             2011                        5400-5408 S. Inglesdie, LLC   \n",
       "4235             2017                        5487-5491 S. Hyde Park, LLC   \n",
       "5040             2013  Berke, Benitta, as Trustee under trust agreeme...   \n",
       "7131             2012                         1864-1870 North Damen, LLC   \n",
       "8991             2012  2004-2008 W. Erie Street, LLC c/o Bartlomiej P...   \n",
       "9240             2011                            1218-1220 N. Carman LLC   \n",
       "9312             2012                              5528-5532 Everett LLC   \n",
       "9842             2014                3700-3714 N California Rowhomes LLC   \n",
       "9984             2018                  1331-1335 N Dearborn Condo Assoc.   \n",
       "10661            2011                          5339-5345 S. Woodlawn LLC   \n",
       "\n",
       "       GENDER  AGE STATE        COUNTRY INVESTMENT_TYPE  NET_ASSET_VALUE  \n",
       "172      MALE   23    IL  United States     Alternative     6.351583e+07  \n",
       "468      MALE   29    NJ  United States        Currency     1.226806e+06  \n",
       "931    FEMALE   30    IL  United States        Currency     3.122057e+05  \n",
       "1627     MALE   32    NJ  United States        Currency     1.776046e+05  \n",
       "1889   FEMALE   33    IL  United States            Cash     8.129814e+05  \n",
       "2133     MALE   34    NJ  United States        Currency     6.244000e-01  \n",
       "2360     MALE   34    IL  United States        Currency     8.281113e+05  \n",
       "3159   FEMALE   36    IL  United States        Currency     5.715613e+07  \n",
       "3203     MALE   37    IL  United States        Currency     7.293004e+05  \n",
       "3882     MALE   39    NJ  United States             ETF     4.050534e+05  \n",
       "4235     MALE   39    NJ  United States        Equities     8.065805e+07  \n",
       "5040   FEMALE   42    IL  United States             ETF     6.201649e+03  \n",
       "7131     MALE   48    IL  United States        Equities     3.304096e+04  \n",
       "8991     MALE   53    IL  United States        Equities     3.485890e+05  \n",
       "9240   FEMALE   54    IL  United States            Cash     3.996977e+03  \n",
       "9312   FEMALE   54    NJ  United States        Currency     4.960897e+05  \n",
       "9842     MALE   56    IL  United States        Currency     1.172727e+06  \n",
       "9984   FEMALE   56    IL  United States        Equities     1.176858e+06  \n",
       "10661    MALE   58    NJ  United States        Equities     7.846256e+05  "
      ]
     },
     "execution_count": 95,
     "metadata": {},
     "output_type": "execute_result"
    }
   ],
   "source": [
    "#Find all the rows where there seems to be an address in the Name column\n",
    "\n",
    "Client[Client['NAME'].str.contains('\\d{4}[-]\\d{4}')]"
   ]
  },
  {
   "cell_type": "markdown",
   "id": "fcdd8ef4",
   "metadata": {},
   "source": [
    "# Machine Learning"
   ]
  },
  {
   "cell_type": "code",
   "execution_count": 96,
   "id": "1ef75e4d",
   "metadata": {},
   "outputs": [
    {
     "data": {
      "text/html": [
       "<div>\n",
       "<style scoped>\n",
       "    .dataframe tbody tr th:only-of-type {\n",
       "        vertical-align: middle;\n",
       "    }\n",
       "\n",
       "    .dataframe tbody tr th {\n",
       "        vertical-align: top;\n",
       "    }\n",
       "\n",
       "    .dataframe thead th {\n",
       "        text-align: right;\n",
       "    }\n",
       "</style>\n",
       "<table border=\"1\" class=\"dataframe\">\n",
       "  <thead>\n",
       "    <tr style=\"text-align: right;\">\n",
       "      <th></th>\n",
       "      <th>FIRST_INV_DATE</th>\n",
       "      <th>NAME</th>\n",
       "      <th>GENDER</th>\n",
       "      <th>AGE</th>\n",
       "      <th>STATE</th>\n",
       "      <th>COUNTRY</th>\n",
       "      <th>INVESTMENT_TYPE</th>\n",
       "      <th>NET_ASSET_VALUE</th>\n",
       "    </tr>\n",
       "  </thead>\n",
       "  <tbody>\n",
       "    <tr>\n",
       "      <th>0</th>\n",
       "      <td>2012</td>\n",
       "      <td>Bank of America Corp.%2f Bank of America,NA</td>\n",
       "      <td>1</td>\n",
       "      <td>18</td>\n",
       "      <td>DE</td>\n",
       "      <td>United States</td>\n",
       "      <td>Alternative</td>\n",
       "      <td>212332.1503</td>\n",
       "    </tr>\n",
       "    <tr>\n",
       "      <th>1</th>\n",
       "      <td>2012</td>\n",
       "      <td>Chicago Carriage Cab Company</td>\n",
       "      <td>1</td>\n",
       "      <td>18</td>\n",
       "      <td>IL</td>\n",
       "      <td>United States</td>\n",
       "      <td>Alternative</td>\n",
       "      <td>718464.1755</td>\n",
       "    </tr>\n",
       "    <tr>\n",
       "      <th>2</th>\n",
       "      <td>2012</td>\n",
       "      <td>Barrett &amp; Porto</td>\n",
       "      <td>0</td>\n",
       "      <td>18</td>\n",
       "      <td>IL</td>\n",
       "      <td>United States</td>\n",
       "      <td>Alternative</td>\n",
       "      <td>21340.8248</td>\n",
       "    </tr>\n",
       "    <tr>\n",
       "      <th>3</th>\n",
       "      <td>2014</td>\n",
       "      <td>Sutherland LLC</td>\n",
       "      <td>0</td>\n",
       "      <td>18</td>\n",
       "      <td>NJ</td>\n",
       "      <td>United States</td>\n",
       "      <td>Alternative</td>\n",
       "      <td>132508.3856</td>\n",
       "    </tr>\n",
       "    <tr>\n",
       "      <th>4</th>\n",
       "      <td>2012</td>\n",
       "      <td>Museums in the Park</td>\n",
       "      <td>1</td>\n",
       "      <td>18</td>\n",
       "      <td>IL</td>\n",
       "      <td>United States</td>\n",
       "      <td>Alternative</td>\n",
       "      <td>734877.3064</td>\n",
       "    </tr>\n",
       "  </tbody>\n",
       "</table>\n",
       "</div>"
      ],
      "text/plain": [
       "   FIRST_INV_DATE                                         NAME  GENDER  AGE  \\\n",
       "0            2012  Bank of America Corp.%2f Bank of America,NA       1   18   \n",
       "1            2012                 Chicago Carriage Cab Company       1   18   \n",
       "2            2012                              Barrett & Porto       0   18   \n",
       "3            2014                               Sutherland LLC       0   18   \n",
       "4            2012                          Museums in the Park       1   18   \n",
       "\n",
       "  STATE        COUNTRY INVESTMENT_TYPE  NET_ASSET_VALUE  \n",
       "0    DE  United States     Alternative      212332.1503  \n",
       "1    IL  United States     Alternative      718464.1755  \n",
       "2    IL  United States     Alternative       21340.8248  \n",
       "3    NJ  United States     Alternative      132508.3856  \n",
       "4    IL  United States     Alternative      734877.3064  "
      ]
     },
     "execution_count": 96,
     "metadata": {},
     "output_type": "execute_result"
    }
   ],
   "source": [
    "#convert the FEMALE and MALE to 0 and 1 respectively in the GENDER column of the Client dataframe\n",
    "\n",
    "Client['GENDER'] = Client['GENDER'].replace(['FEMALE','MALE'],[0,1])\n",
    "Client.head()"
   ]
  },
  {
   "cell_type": "code",
   "execution_count": 97,
   "id": "ed419f3b",
   "metadata": {},
   "outputs": [
    {
     "data": {
      "text/plain": [
       "0.6098636728147554"
      ]
     },
     "execution_count": 97,
     "metadata": {},
     "output_type": "execute_result"
    }
   ],
   "source": [
    "import pandas as pd\n",
    "from sklearn.tree import DecisionTreeClassifier\n",
    "from sklearn.model_selection import train_test_split\n",
    "from sklearn.metrics import accuracy_score\n",
    "\n",
    "X = Client.drop(columns = ['FIRST_INV_DATE','NAME','STATE','COUNTRY','INVESTMENT_TYPE'],axis=1)\n",
    "y = Client['INVESTMENT_TYPE']\n",
    "X_train, X_test, y_train, y_test = train_test_split(X, y, test_size = 0.2)\n",
    "\n",
    "model = DecisionTreeClassifier()\n",
    "model.fit(X_train, y_train)\n",
    "\n",
    "\n",
    "predictions = model.predict(X_test)\n",
    "\n",
    "score = accuracy_score(y_test, predictions)\n",
    "score"
   ]
  },
  {
   "cell_type": "code",
   "execution_count": 102,
   "id": "5eb69076",
   "metadata": {},
   "outputs": [
    {
     "data": {
      "text/html": [
       "<div>\n",
       "<style scoped>\n",
       "    .dataframe tbody tr th:only-of-type {\n",
       "        vertical-align: middle;\n",
       "    }\n",
       "\n",
       "    .dataframe tbody tr th {\n",
       "        vertical-align: top;\n",
       "    }\n",
       "\n",
       "    .dataframe thead th {\n",
       "        text-align: right;\n",
       "    }\n",
       "</style>\n",
       "<table border=\"1\" class=\"dataframe\">\n",
       "  <thead>\n",
       "    <tr style=\"text-align: right;\">\n",
       "      <th></th>\n",
       "      <th>FIRST_INV_DATE</th>\n",
       "      <th>NAME</th>\n",
       "      <th>GENDER</th>\n",
       "      <th>AGE</th>\n",
       "      <th>STATE</th>\n",
       "      <th>COUNTRY</th>\n",
       "      <th>INVESTMENT_TYPE</th>\n",
       "      <th>NET_ASSET_VALUE</th>\n",
       "      <th>YEARS_SINCE_INV</th>\n",
       "    </tr>\n",
       "  </thead>\n",
       "  <tbody>\n",
       "    <tr>\n",
       "      <th>0</th>\n",
       "      <td>2012</td>\n",
       "      <td>Bank of America Corp.%2f Bank of America,NA</td>\n",
       "      <td>1</td>\n",
       "      <td>18</td>\n",
       "      <td>DE</td>\n",
       "      <td>United States</td>\n",
       "      <td>Alternative</td>\n",
       "      <td>212332.1503</td>\n",
       "      <td>10</td>\n",
       "    </tr>\n",
       "    <tr>\n",
       "      <th>1</th>\n",
       "      <td>2012</td>\n",
       "      <td>Chicago Carriage Cab Company</td>\n",
       "      <td>1</td>\n",
       "      <td>18</td>\n",
       "      <td>IL</td>\n",
       "      <td>United States</td>\n",
       "      <td>Alternative</td>\n",
       "      <td>718464.1755</td>\n",
       "      <td>10</td>\n",
       "    </tr>\n",
       "    <tr>\n",
       "      <th>2</th>\n",
       "      <td>2012</td>\n",
       "      <td>Barrett &amp; Porto</td>\n",
       "      <td>0</td>\n",
       "      <td>18</td>\n",
       "      <td>IL</td>\n",
       "      <td>United States</td>\n",
       "      <td>Alternative</td>\n",
       "      <td>21340.8248</td>\n",
       "      <td>10</td>\n",
       "    </tr>\n",
       "    <tr>\n",
       "      <th>3</th>\n",
       "      <td>2014</td>\n",
       "      <td>Sutherland LLC</td>\n",
       "      <td>0</td>\n",
       "      <td>18</td>\n",
       "      <td>NJ</td>\n",
       "      <td>United States</td>\n",
       "      <td>Alternative</td>\n",
       "      <td>132508.3856</td>\n",
       "      <td>8</td>\n",
       "    </tr>\n",
       "    <tr>\n",
       "      <th>4</th>\n",
       "      <td>2012</td>\n",
       "      <td>Museums in the Park</td>\n",
       "      <td>1</td>\n",
       "      <td>18</td>\n",
       "      <td>IL</td>\n",
       "      <td>United States</td>\n",
       "      <td>Alternative</td>\n",
       "      <td>734877.3064</td>\n",
       "      <td>10</td>\n",
       "    </tr>\n",
       "  </tbody>\n",
       "</table>\n",
       "</div>"
      ],
      "text/plain": [
       "   FIRST_INV_DATE                                         NAME  GENDER  AGE  \\\n",
       "0            2012  Bank of America Corp.%2f Bank of America,NA       1   18   \n",
       "1            2012                 Chicago Carriage Cab Company       1   18   \n",
       "2            2012                              Barrett & Porto       0   18   \n",
       "3            2014                               Sutherland LLC       0   18   \n",
       "4            2012                          Museums in the Park       1   18   \n",
       "\n",
       "  STATE        COUNTRY INVESTMENT_TYPE  NET_ASSET_VALUE  YEARS_SINCE_INV  \n",
       "0    DE  United States     Alternative      212332.1503               10  \n",
       "1    IL  United States     Alternative      718464.1755               10  \n",
       "2    IL  United States     Alternative       21340.8248               10  \n",
       "3    NJ  United States     Alternative      132508.3856                8  \n",
       "4    IL  United States     Alternative      734877.3064               10  "
      ]
     },
     "execution_count": 102,
     "metadata": {},
     "output_type": "execute_result"
    }
   ],
   "source": [
    "#use function created previously\n",
    "\n",
    "currentyear = 2022\n",
    "yearssince = DayVar(Client['FIRST_INV_DATE'],currentyear)\n",
    "Client['YEARS_SINCE_INV'] = yearssince\n",
    "\n",
    "Client.head()"
   ]
  },
  {
   "cell_type": "code",
   "execution_count": 111,
   "id": "720b4a51",
   "metadata": {},
   "outputs": [
    {
     "name": "stdout",
     "output_type": "stream",
     "text": [
      "0.017044697999936576\n"
     ]
    },
    {
     "data": {
      "image/png": "[encoded data removed]",
      "text/plain": [
       "<Figure size 432x288 with 1 Axes>"
      ]
     },
     "metadata": {
      "needs_background": "light"
     },
     "output_type": "display_data"
    }
   ],
   "source": [
    "import numpy as np\n",
    "import pandas as pd\n",
    "from sklearn.linear_model import LinearRegression\n",
    "from sklearn.model_selection import train_test_split\n",
    "import matplotlib.pyplot as plt\n",
    "\n",
    "X = Client['AGE'].values #independent variable array = YEARS_SINCE_INV\n",
    "y = Client['NET_ASSET_VALUE'].values #dependent variable vector = NET_ASSET_VALUE\n",
    "\n",
    "\n",
    "X_train, X_test, y_train, y_test = train_test_split(X, y, test_size = 0.2, random_state=0)\n",
    "\n",
    "X_train = X_train.reshape(-1,1)\n",
    "X_test = X_test.reshape(-1,1)\n",
    "\n",
    "regr = LinearRegression()\n",
    "regr.fit(X_train,y_train)\n",
    "print(regr.score(X_test, y_test))\n",
    "y_pred = regr.predict(X_test)\n",
    "plt.scatter(X_test, y_test, color='b')\n",
    "plt.plot(X_test,y_pred, color='r')\n",
    "plt.show()"
   ]
  },
  {
   "cell_type": "code",
   "execution_count": null,
   "id": "f2a24426",
   "metadata": {},
   "outputs": [],
   "source": []
  }
 ],
 "metadata": {
  "kernelspec": {
   "display_name": "Python 3 (ipykernel)",
   "language": "python",
   "name": "python3"
  },
  "language_info": {
   "codemirror_mode": {
    "name": "ipython",
    "version": 3
   },
   "file_extension": ".py",
   "mimetype": "text/x-python",
   "name": "python",
   "nbconvert_exporter": "python",
   "pygments_lexer": "ipython3",
   "version": "3.9.7"
  }
 },
 "nbformat": 4,
 "nbformat_minor": 5
}
